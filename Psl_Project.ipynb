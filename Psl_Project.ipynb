{
  "nbformat": 4,
  "nbformat_minor": 0,
  "metadata": {
    "colab": {
      "name": "Psl Project.ipynb",
      "provenance": [],
      "collapsed_sections": []
    },
    "kernelspec": {
      "name": "python3",
      "display_name": "Python 3"
    }
  },
  "cells": [
    {
      "cell_type": "markdown",
      "metadata": {
        "id": "AzFQCAVieuTM"
      },
      "source": [
        "###                         **PSL Prediction**"
      ]
    },
    {
      "cell_type": "markdown",
      "metadata": {
        "id": "M-p7O9eZfgBu"
      },
      "source": [
        "## Mounting Google Drive"
      ]
    },
    {
      "cell_type": "code",
      "metadata": {
        "colab": {
          "base_uri": "https://localhost:8080/"
        },
        "id": "_KTw84wZawyy",
        "outputId": "8ec6f9f0-c1bf-4086-fac6-e0960556af3a"
      },
      "source": [
        "from google.colab import drive\r\n",
        "drive.mount('/content/gdrive')"
      ],
      "execution_count": 206,
      "outputs": [
        {
          "output_type": "stream",
          "text": [
            "Drive already mounted at /content/gdrive; to attempt to forcibly remount, call drive.mount(\"/content/gdrive\", force_remount=True).\n"
          ],
          "name": "stdout"
        }
      ]
    },
    {
      "cell_type": "markdown",
      "metadata": {
        "id": "myHvY_eigOfc"
      },
      "source": [
        " **Importing libraries**"
      ]
    },
    {
      "cell_type": "code",
      "metadata": {
        "id": "i7SX91BSiKAx"
      },
      "source": [
        "import pandas as pd\r\n",
        "import numpy as np\r\n",
        "import matplotlib as mpl\r\n",
        "import matplotlib.pyplot as plt\r\n",
        "import seaborn as sns"
      ],
      "execution_count": 207,
      "outputs": []
    },
    {
      "cell_type": "markdown",
      "metadata": {
        "id": "I8_88wp5iwL-"
      },
      "source": [
        "**Reading Datasets**"
      ]
    },
    {
      "cell_type": "code",
      "metadata": {
        "id": "pp5vjYIMi2u0",
        "colab": {
          "base_uri": "https://localhost:8080/"
        },
        "outputId": "4a9853db-493e-4179-be33-6a3f91c8dfd5"
      },
      "source": [
        "# Read the files and name them accordingly\r\n",
        "%load_ext google.colab.data_table\r\n",
        "\r\n",
        "pslmatches = pd.read_csv('matches.csv')                     #match by match dataset\r\n",
        "pslball = pd.read_csv('ball.csv')                 #ball by ball dataset"
      ],
      "execution_count": 249,
      "outputs": [
        {
          "output_type": "stream",
          "text": [
            "The google.colab.data_table extension is already loaded. To reload it, use:\n",
            "  %reload_ext google.colab.data_table\n"
          ],
          "name": "stdout"
        }
      ]
    },
    {
      "cell_type": "markdown",
      "metadata": {
        "id": "uwKnmNjVk8K0"
      },
      "source": [
        "# **Basic data analysis**"
      ]
    },
    {
      "cell_type": "markdown",
      "metadata": {
        "id": "7_OgEeKhj8Mu"
      },
      "source": [
        "**Head of datatsets**"
      ]
    },
    {
      "cell_type": "code",
      "metadata": {
        "id": "E7s2I0oukHBg",
        "colab": {
          "base_uri": "https://localhost:8080/",
          "height": 451
        },
        "outputId": "77739096-3605-4ec1-b23c-a2ba7ee2a94e"
      },
      "source": [
        "#Ensure file reading \r\n",
        "pslmatches.head(5)"
      ],
      "execution_count": 209,
      "outputs": [
        {
          "output_type": "execute_result",
          "data": {
            "application/vnd.google.colaboratory.module+javascript": "\n      import \"https://ssl.gstatic.com/colaboratory/data_table/a6224c040fa35dcf/data_table.js\";\n\n      window.createDataTable({\n        data: [[{\n            'v': 0,\n            'f': \"0\",\n        },\n{\n            'v': 1,\n            'f': \"1\",\n        },\n{\n            'v': 2016,\n            'f': \"2016\",\n        },\n\"2/4/2016\",\n\"Islamabad United\",\n\"Quetta Gladiators\",\n\"Quetta Gladiators\",\n\"field\",\n\"Quetta Gladiators\",\n{\n            'v': 8,\n            'f': \"8\",\n        },\n{\n            'v': 0,\n            'f': \"0\",\n        },\n\"Mohammad Nawaz \",\n\"Dubai International Cricket Stadium\",\n\"JS Wilson\",\n\"Shozab Raza\",\n\"normal\"],\n [{\n            'v': 1,\n            'f': \"1\",\n        },\n{\n            'v': 2,\n            'f': \"2\",\n        },\n{\n            'v': 2016,\n            'f': \"2016\",\n        },\n\"2/5/2016\",\n\"Peshawar Zalmi\",\n\"Islamabad United\",\n\"Peshawar Zalmi\",\n\"bat\",\n\"Peshawar Zalmi\",\n{\n            'v': 0,\n            'f': \"0\",\n        },\n{\n            'v': 24,\n            'f': \"24\",\n        },\n\"Mohammad Asghar\",\n\"Dubai International Cricket Stadium\",\n\"Rashid Riaz\",\n\"Shozab Raza\",\n\"normal\"],\n [{\n            'v': 2,\n            'f': \"2\",\n        },\n{\n            'v': 3,\n            'f': \"3\",\n        },\n{\n            'v': 2016,\n            'f': \"2016\",\n        },\n\"2/5/2016\",\n\"Lahore Qalandars\",\n\"Karachi Kings\",\n\"Karachi Kings\",\n\"field\",\n\"Karachi Kings\",\n{\n            'v': 7,\n            'f': \"7\",\n        },\n{\n            'v': 0,\n            'f': \"0\",\n        },\n\"Shakib Al Hasan\",\n\"Dubai International Cricket Stadium\",\n\"Rashid Riaz\",\n\"Shozab Raza\",\n\"normal\"],\n [{\n            'v': 3,\n            'f': \"3\",\n        },\n{\n            'v': 4,\n            'f': \"4\",\n        },\n{\n            'v': 2016,\n            'f': \"2016\",\n        },\n\"2/6/2016\",\n\"Lahore Qalandars\",\n\"Peshawar Zalmi\",\n\"Peshawar Zalmi\",\n\"field\",\n\"Peshawar Zalmi\",\n{\n            'v': 9,\n            'f': \"9\",\n        },\n{\n            'v': 0,\n            'f': \"0\",\n        },\n\"Tamim Iqbal\",\n\"Dubai International Cricket Stadium\",\n\"Rashid Riaz\",\n\"JS Wilson\",\n\"normal\"],\n [{\n            'v': 4,\n            'f': \"4\",\n        },\n{\n            'v': 5,\n            'f': \"5\",\n        },\n{\n            'v': 2016,\n            'f': \"2016\",\n        },\n\"2/7/2016\",\n\"Karachi Kings\",\n\"Quetta Gladiators\",\n\"Quetta Gladiators\",\n\"field\",\n\"Quetta Gladiators\",\n{\n            'v': 8,\n            'f': \"8\",\n        },\n{\n            'v': 0,\n            'f': \"0\",\n        },\n\"Ahmed Shehzad\",\n\"Dubai International Cricket Stadium\",\n\"Rashid Riaz\",\n\"Shozab Raza\",\n\"normal\"]],\n        columns: [[\"number\", \"index\"], [\"number\", \"Id\"], [\"number\", \"season\"], [\"string\", \"date\"], [\"string\", \"team1\"], [\"string\", \"team2\"], [\"string\", \"toss_winner\"], [\"string\", \"toss_decision\"], [\"string\", \"winner\"], [\"number\", \"win_by_wickets\"], [\"number\", \"win_by_runs\"], [\"string\", \"man_of_match\"], [\"string\", \"venue\"], [\"string\", \"umpire1\"], [\"string\", \"umpire2\"], [\"string\", \"result\"]],\n        columnOptions: [{\"width\": \"1px\", \"className\": \"index_column\"}],\n        rowsPerPage: 25,\n        helpUrl: \"https://colab.research.google.com/notebooks/data_table.ipynb\",\n        suppressOutputScrolling: true,\n        minimumWidth: undefined,\n      });\n    ",
            "text/html": [
              "<div>\n",
              "<style scoped>\n",
              "    .dataframe tbody tr th:only-of-type {\n",
              "        vertical-align: middle;\n",
              "    }\n",
              "\n",
              "    .dataframe tbody tr th {\n",
              "        vertical-align: top;\n",
              "    }\n",
              "\n",
              "    .dataframe thead th {\n",
              "        text-align: right;\n",
              "    }\n",
              "</style>\n",
              "<table border=\"1\" class=\"dataframe\">\n",
              "  <thead>\n",
              "    <tr style=\"text-align: right;\">\n",
              "      <th></th>\n",
              "      <th>Id</th>\n",
              "      <th>season</th>\n",
              "      <th>date</th>\n",
              "      <th>team1</th>\n",
              "      <th>team2</th>\n",
              "      <th>toss_winner</th>\n",
              "      <th>toss_decision</th>\n",
              "      <th>winner</th>\n",
              "      <th>win_by_wickets</th>\n",
              "      <th>win_by_runs</th>\n",
              "      <th>man_of_match</th>\n",
              "      <th>venue</th>\n",
              "      <th>umpire1</th>\n",
              "      <th>umpire2</th>\n",
              "      <th>result</th>\n",
              "    </tr>\n",
              "  </thead>\n",
              "  <tbody>\n",
              "    <tr>\n",
              "      <th>0</th>\n",
              "      <td>1</td>\n",
              "      <td>2016</td>\n",
              "      <td>2/4/2016</td>\n",
              "      <td>Islamabad United</td>\n",
              "      <td>Quetta Gladiators</td>\n",
              "      <td>Quetta Gladiators</td>\n",
              "      <td>field</td>\n",
              "      <td>Quetta Gladiators</td>\n",
              "      <td>8</td>\n",
              "      <td>0</td>\n",
              "      <td>Mohammad Nawaz</td>\n",
              "      <td>Dubai International Cricket Stadium</td>\n",
              "      <td>JS Wilson</td>\n",
              "      <td>Shozab Raza</td>\n",
              "      <td>normal</td>\n",
              "    </tr>\n",
              "    <tr>\n",
              "      <th>1</th>\n",
              "      <td>2</td>\n",
              "      <td>2016</td>\n",
              "      <td>2/5/2016</td>\n",
              "      <td>Peshawar Zalmi</td>\n",
              "      <td>Islamabad United</td>\n",
              "      <td>Peshawar Zalmi</td>\n",
              "      <td>bat</td>\n",
              "      <td>Peshawar Zalmi</td>\n",
              "      <td>0</td>\n",
              "      <td>24</td>\n",
              "      <td>Mohammad Asghar</td>\n",
              "      <td>Dubai International Cricket Stadium</td>\n",
              "      <td>Rashid Riaz</td>\n",
              "      <td>Shozab Raza</td>\n",
              "      <td>normal</td>\n",
              "    </tr>\n",
              "    <tr>\n",
              "      <th>2</th>\n",
              "      <td>3</td>\n",
              "      <td>2016</td>\n",
              "      <td>2/5/2016</td>\n",
              "      <td>Lahore Qalandars</td>\n",
              "      <td>Karachi Kings</td>\n",
              "      <td>Karachi Kings</td>\n",
              "      <td>field</td>\n",
              "      <td>Karachi Kings</td>\n",
              "      <td>7</td>\n",
              "      <td>0</td>\n",
              "      <td>Shakib Al Hasan</td>\n",
              "      <td>Dubai International Cricket Stadium</td>\n",
              "      <td>Rashid Riaz</td>\n",
              "      <td>Shozab Raza</td>\n",
              "      <td>normal</td>\n",
              "    </tr>\n",
              "    <tr>\n",
              "      <th>3</th>\n",
              "      <td>4</td>\n",
              "      <td>2016</td>\n",
              "      <td>2/6/2016</td>\n",
              "      <td>Lahore Qalandars</td>\n",
              "      <td>Peshawar Zalmi</td>\n",
              "      <td>Peshawar Zalmi</td>\n",
              "      <td>field</td>\n",
              "      <td>Peshawar Zalmi</td>\n",
              "      <td>9</td>\n",
              "      <td>0</td>\n",
              "      <td>Tamim Iqbal</td>\n",
              "      <td>Dubai International Cricket Stadium</td>\n",
              "      <td>Rashid Riaz</td>\n",
              "      <td>JS Wilson</td>\n",
              "      <td>normal</td>\n",
              "    </tr>\n",
              "    <tr>\n",
              "      <th>4</th>\n",
              "      <td>5</td>\n",
              "      <td>2016</td>\n",
              "      <td>2/7/2016</td>\n",
              "      <td>Karachi Kings</td>\n",
              "      <td>Quetta Gladiators</td>\n",
              "      <td>Quetta Gladiators</td>\n",
              "      <td>field</td>\n",
              "      <td>Quetta Gladiators</td>\n",
              "      <td>8</td>\n",
              "      <td>0</td>\n",
              "      <td>Ahmed Shehzad</td>\n",
              "      <td>Dubai International Cricket Stadium</td>\n",
              "      <td>Rashid Riaz</td>\n",
              "      <td>Shozab Raza</td>\n",
              "      <td>normal</td>\n",
              "    </tr>\n",
              "  </tbody>\n",
              "</table>\n",
              "</div>"
            ],
            "text/plain": [
              "   Id  season      date  ...      umpire1      umpire2  result\n",
              "0   1    2016  2/4/2016  ...    JS Wilson  Shozab Raza  normal\n",
              "1   2    2016  2/5/2016  ...  Rashid Riaz  Shozab Raza  normal\n",
              "2   3    2016  2/5/2016  ...  Rashid Riaz  Shozab Raza  normal\n",
              "3   4    2016  2/6/2016  ...  Rashid Riaz    JS Wilson  normal\n",
              "4   5    2016  2/7/2016  ...  Rashid Riaz  Shozab Raza  normal\n",
              "\n",
              "[5 rows x 15 columns]"
            ]
          },
          "metadata": {
            "tags": []
          },
          "execution_count": 209
        }
      ]
    },
    {
      "cell_type": "code",
      "metadata": {
        "colab": {
          "base_uri": "https://localhost:8080/",
          "height": 479
        },
        "id": "bE452GDRlLY7",
        "outputId": "26f301b7-ec7a-49b8-b9ec-55cbf54f46af"
      },
      "source": [
        "#Ensure file reading \r\n",
        "pslball.head(5)"
      ],
      "execution_count": 250,
      "outputs": [
        {
          "output_type": "execute_result",
          "data": {
            "text/html": [
              "<div>\n",
              "<style scoped>\n",
              "    .dataframe tbody tr th:only-of-type {\n",
              "        vertical-align: middle;\n",
              "    }\n",
              "\n",
              "    .dataframe tbody tr th {\n",
              "        vertical-align: top;\n",
              "    }\n",
              "\n",
              "    .dataframe thead th {\n",
              "        text-align: right;\n",
              "    }\n",
              "</style>\n",
              "<table border=\"1\" class=\"dataframe\">\n",
              "  <thead>\n",
              "    <tr style=\"text-align: right;\">\n",
              "      <th></th>\n",
              "      <th>match_id</th>\n",
              "      <th>season</th>\n",
              "      <th>start_date</th>\n",
              "      <th>venue</th>\n",
              "      <th>innings</th>\n",
              "      <th>ball</th>\n",
              "      <th>batting_team</th>\n",
              "      <th>bowling_team</th>\n",
              "      <th>striker</th>\n",
              "      <th>non_striker</th>\n",
              "      <th>bowler</th>\n",
              "      <th>runs_off_bat</th>\n",
              "      <th>extras</th>\n",
              "      <th>wides</th>\n",
              "      <th>noballs</th>\n",
              "      <th>byes</th>\n",
              "      <th>legbyes</th>\n",
              "      <th>penalty</th>\n",
              "      <th>wicket_type</th>\n",
              "      <th>player_dismissed</th>\n",
              "      <th>total_run</th>\n",
              "    </tr>\n",
              "  </thead>\n",
              "  <tbody>\n",
              "    <tr>\n",
              "      <th>0</th>\n",
              "      <td>24</td>\n",
              "      <td>2016</td>\n",
              "      <td>2/9/2017</td>\n",
              "      <td>Dubai International Cricket Stadium</td>\n",
              "      <td>1</td>\n",
              "      <td>0.1</td>\n",
              "      <td>Peshawar Zalmi</td>\n",
              "      <td>Islamabad United</td>\n",
              "      <td>Mohammad Hafeez</td>\n",
              "      <td>DJ Malan</td>\n",
              "      <td>Mohammad Irfan</td>\n",
              "      <td>0</td>\n",
              "      <td>0</td>\n",
              "      <td>NaN</td>\n",
              "      <td>NaN</td>\n",
              "      <td>NaN</td>\n",
              "      <td>NaN</td>\n",
              "      <td>NaN</td>\n",
              "      <td>caught</td>\n",
              "      <td>Mohammad Hafeez</td>\n",
              "      <td>0</td>\n",
              "    </tr>\n",
              "    <tr>\n",
              "      <th>1</th>\n",
              "      <td>24</td>\n",
              "      <td>2016</td>\n",
              "      <td>2/9/2017</td>\n",
              "      <td>Dubai International Cricket Stadium</td>\n",
              "      <td>1</td>\n",
              "      <td>0.2</td>\n",
              "      <td>Peshawar Zalmi</td>\n",
              "      <td>Islamabad United</td>\n",
              "      <td>Kamran Akmal</td>\n",
              "      <td>DJ Malan</td>\n",
              "      <td>Mohammad Irfan</td>\n",
              "      <td>1</td>\n",
              "      <td>0</td>\n",
              "      <td>NaN</td>\n",
              "      <td>NaN</td>\n",
              "      <td>NaN</td>\n",
              "      <td>NaN</td>\n",
              "      <td>NaN</td>\n",
              "      <td>NaN</td>\n",
              "      <td>NaN</td>\n",
              "      <td>1</td>\n",
              "    </tr>\n",
              "    <tr>\n",
              "      <th>2</th>\n",
              "      <td>24</td>\n",
              "      <td>2016</td>\n",
              "      <td>2/9/2017</td>\n",
              "      <td>Dubai International Cricket Stadium</td>\n",
              "      <td>1</td>\n",
              "      <td>0.3</td>\n",
              "      <td>Peshawar Zalmi</td>\n",
              "      <td>Islamabad United</td>\n",
              "      <td>DJ Malan</td>\n",
              "      <td>Kamran Akmal</td>\n",
              "      <td>Mohammad Irfan</td>\n",
              "      <td>0</td>\n",
              "      <td>0</td>\n",
              "      <td>NaN</td>\n",
              "      <td>NaN</td>\n",
              "      <td>NaN</td>\n",
              "      <td>NaN</td>\n",
              "      <td>NaN</td>\n",
              "      <td>NaN</td>\n",
              "      <td>NaN</td>\n",
              "      <td>0</td>\n",
              "    </tr>\n",
              "    <tr>\n",
              "      <th>3</th>\n",
              "      <td>24</td>\n",
              "      <td>2016</td>\n",
              "      <td>2/9/2017</td>\n",
              "      <td>Dubai International Cricket Stadium</td>\n",
              "      <td>1</td>\n",
              "      <td>0.4</td>\n",
              "      <td>Peshawar Zalmi</td>\n",
              "      <td>Islamabad United</td>\n",
              "      <td>DJ Malan</td>\n",
              "      <td>Kamran Akmal</td>\n",
              "      <td>Mohammad Irfan</td>\n",
              "      <td>0</td>\n",
              "      <td>0</td>\n",
              "      <td>NaN</td>\n",
              "      <td>NaN</td>\n",
              "      <td>NaN</td>\n",
              "      <td>NaN</td>\n",
              "      <td>NaN</td>\n",
              "      <td>NaN</td>\n",
              "      <td>NaN</td>\n",
              "      <td>0</td>\n",
              "    </tr>\n",
              "    <tr>\n",
              "      <th>4</th>\n",
              "      <td>24</td>\n",
              "      <td>2016</td>\n",
              "      <td>2/9/2017</td>\n",
              "      <td>Dubai International Cricket Stadium</td>\n",
              "      <td>1</td>\n",
              "      <td>0.5</td>\n",
              "      <td>Peshawar Zalmi</td>\n",
              "      <td>Islamabad United</td>\n",
              "      <td>DJ Malan</td>\n",
              "      <td>Kamran Akmal</td>\n",
              "      <td>Mohammad Irfan</td>\n",
              "      <td>0</td>\n",
              "      <td>0</td>\n",
              "      <td>NaN</td>\n",
              "      <td>NaN</td>\n",
              "      <td>NaN</td>\n",
              "      <td>NaN</td>\n",
              "      <td>NaN</td>\n",
              "      <td>NaN</td>\n",
              "      <td>NaN</td>\n",
              "      <td>0</td>\n",
              "    </tr>\n",
              "  </tbody>\n",
              "</table>\n",
              "</div>"
            ],
            "text/plain": [
              "   match_id  season start_date  ... wicket_type  player_dismissed  total_run\n",
              "0        24    2016   2/9/2017  ...      caught   Mohammad Hafeez          0\n",
              "1        24    2016   2/9/2017  ...         NaN               NaN          1\n",
              "2        24    2016   2/9/2017  ...         NaN               NaN          0\n",
              "3        24    2016   2/9/2017  ...         NaN               NaN          0\n",
              "4        24    2016   2/9/2017  ...         NaN               NaN          0\n",
              "\n",
              "[5 rows x 21 columns]"
            ]
          },
          "metadata": {
            "tags": []
          },
          "execution_count": 250
        }
      ]
    },
    {
      "cell_type": "markdown",
      "metadata": {
        "id": "4j8NC0IvlaMr"
      },
      "source": [
        "**Statistical view**"
      ]
    },
    {
      "cell_type": "code",
      "metadata": {
        "id": "7GqbB2kOlfJ8",
        "colab": {
          "base_uri": "https://localhost:8080/",
          "height": 274
        },
        "outputId": "daeefcae-150c-4fc4-d975-c3799ca0e492"
      },
      "source": [
        "#Psl delivery datatset\r\n",
        "pslball.describe()\r\n"
      ],
      "execution_count": 211,
      "outputs": [
        {
          "output_type": "execute_result",
          "data": {
            "application/vnd.google.colaboratory.module+javascript": "\n      import \"https://ssl.gstatic.com/colaboratory/data_table/a6224c040fa35dcf/data_table.js\";\n\n      window.createDataTable({\n        data: [[\"count\",\n{\n            'v': 33786.0,\n            'f': \"33786.0\",\n        },\n{\n            'v': 33786.0,\n            'f': \"33786.0\",\n        },\n{\n            'v': 33786.0,\n            'f': \"33786.0\",\n        },\n{\n            'v': 33786.0,\n            'f': \"33786.0\",\n        },\n{\n            'v': 33786.0,\n            'f': \"33786.0\",\n        },\n{\n            'v': 33786.0,\n            'f': \"33786.0\",\n        },\n{\n            'v': 905.0,\n            'f': \"905.0\",\n        },\n{\n            'v': 126.0,\n            'f': \"126.0\",\n        },\n{\n            'v': 91.0,\n            'f': \"91.0\",\n        },\n{\n            'v': 574.0,\n            'f': \"574.0\",\n        },\n{\n            'v': 1.0,\n            'f': \"1.0\",\n        },\n{\n            'v': 33786.0,\n            'f': \"33786.0\",\n        }],\n [\"mean\",\n{\n            'v': 73.15832001420706,\n            'f': \"73.15832001420706\",\n        },\n{\n            'v': 2018.0195643165807,\n            'f': \"2018.0195643165807\",\n        },\n{\n            'v': 1.4826259397383532,\n            'f': \"1.4826259397383532\",\n        },\n{\n            'v': 9.401610430355795,\n            'f': \"9.401610430355795\",\n        },\n{\n            'v': 1.2243236843663057,\n            'f': \"1.2243236843663057\",\n        },\n{\n            'v': 0.0652341206416859,\n            'f': \"0.0652341206416859\",\n        },\n{\n            'v': 1.219889502762431,\n            'f': \"1.219889502762431\",\n        },\n{\n            'v': 1.0317460317460319,\n            'f': \"1.0317460317460319\",\n        },\n{\n            'v': 2.208791208791209,\n            'f': \"2.208791208791209\",\n        },\n{\n            'v': 1.3310104529616724,\n            'f': \"1.3310104529616724\",\n        },\n{\n            'v': 5.0,\n            'f': \"5.0\",\n        },\n{\n            'v': 1.2895578050079914,\n            'f': \"1.2895578050079914\",\n        }],\n [\"std\",\n{\n            'v': 41.928243086687566,\n            'f': \"41.928243086687566\",\n        },\n{\n            'v': 1.5376491456997583,\n            'f': \"1.5376491456997583\",\n        },\n{\n            'v': 0.504656471091632,\n            'f': \"0.504656471091632\",\n        },\n{\n            'v': 5.630494853447798,\n            'f': \"5.630494853447798\",\n        },\n{\n            'v': 1.6191364383109932,\n            'f': \"1.6191364383109932\",\n        },\n{\n            'v': 0.3500660204590374,\n            'f': \"0.3500660204590374\",\n        },\n{\n            'v': 0.8422223479296166,\n            'f': \"0.8422223479296166\",\n        },\n{\n            'v': 0.3563483225498991,\n            'f': \"0.3563483225498991\",\n        },\n{\n            'v': 1.4260784107823916,\n            'f': \"1.4260784107823916\",\n        },\n{\n            'v': 0.8872846334930815,\n            'f': \"0.8872846334930815\",\n        },\n{\n            'v': NaN,\n            'f': \"NaN\",\n        },\n{\n            'v': 1.6106815274260717,\n            'f': \"1.6106815274260717\",\n        }],\n [\"min\",\n{\n            'v': 1.0,\n            'f': \"1.0\",\n        },\n{\n            'v': 2016.0,\n            'f': \"2016.0\",\n        },\n{\n            'v': 1.0,\n            'f': \"1.0\",\n        },\n{\n            'v': 0.1,\n            'f': \"0.1\",\n        },\n{\n            'v': 0.0,\n            'f': \"0.0\",\n        },\n{\n            'v': 0.0,\n            'f': \"0.0\",\n        },\n{\n            'v': 1.0,\n            'f': \"1.0\",\n        },\n{\n            'v': 1.0,\n            'f': \"1.0\",\n        },\n{\n            'v': 1.0,\n            'f': \"1.0\",\n        },\n{\n            'v': 1.0,\n            'f': \"1.0\",\n        },\n{\n            'v': 5.0,\n            'f': \"5.0\",\n        },\n{\n            'v': 0.0,\n            'f': \"0.0\",\n        }],\n [\"25%\",\n{\n            'v': 37.0,\n            'f': \"37.0\",\n        },\n{\n            'v': 2016.0,\n            'f': \"2016.0\",\n        },\n{\n            'v': 1.0,\n            'f': \"1.0\",\n        },\n{\n            'v': 4.5,\n            'f': \"4.5\",\n        },\n{\n            'v': 0.0,\n            'f': \"0.0\",\n        },\n{\n            'v': 0.0,\n            'f': \"0.0\",\n        },\n{\n            'v': 1.0,\n            'f': \"1.0\",\n        },\n{\n            'v': 1.0,\n            'f': \"1.0\",\n        },\n{\n            'v': 1.0,\n            'f': \"1.0\",\n        },\n{\n            'v': 1.0,\n            'f': \"1.0\",\n        },\n{\n            'v': 5.0,\n            'f': \"5.0\",\n        },\n{\n            'v': 0.0,\n            'f': \"0.0\",\n        }],\n [\"50%\",\n{\n            'v': 73.0,\n            'f': \"73.0\",\n        },\n{\n            'v': 2018.0,\n            'f': \"2018.0\",\n        },\n{\n            'v': 1.0,\n            'f': \"1.0\",\n        },\n{\n            'v': 9.3,\n            'f': \"9.3\",\n        },\n{\n            'v': 1.0,\n            'f': \"1.0\",\n        },\n{\n            'v': 0.0,\n            'f': \"0.0\",\n        },\n{\n            'v': 1.0,\n            'f': \"1.0\",\n        },\n{\n            'v': 1.0,\n            'f': \"1.0\",\n        },\n{\n            'v': 1.0,\n            'f': \"1.0\",\n        },\n{\n            'v': 1.0,\n            'f': \"1.0\",\n        },\n{\n            'v': 5.0,\n            'f': \"5.0\",\n        },\n{\n            'v': 1.0,\n            'f': \"1.0\",\n        }],\n [\"75%\",\n{\n            'v': 109.0,\n            'f': \"109.0\",\n        },\n{\n            'v': 2019.0,\n            'f': \"2019.0\",\n        },\n{\n            'v': 2.0,\n            'f': \"2.0\",\n        },\n{\n            'v': 14.2,\n            'f': \"14.2\",\n        },\n{\n            'v': 1.0,\n            'f': \"1.0\",\n        },\n{\n            'v': 0.0,\n            'f': \"0.0\",\n        },\n{\n            'v': 1.0,\n            'f': \"1.0\",\n        },\n{\n            'v': 1.0,\n            'f': \"1.0\",\n        },\n{\n            'v': 4.0,\n            'f': \"4.0\",\n        },\n{\n            'v': 1.0,\n            'f': \"1.0\",\n        },\n{\n            'v': 5.0,\n            'f': \"5.0\",\n        },\n{\n            'v': 1.0,\n            'f': \"1.0\",\n        }],\n [\"max\",\n{\n            'v': 146.0,\n            'f': \"146.0\",\n        },\n{\n            'v': 2020.0,\n            'f': \"2020.0\",\n        },\n{\n            'v': 4.0,\n            'f': \"4.0\",\n        },\n{\n            'v': 19.9,\n            'f': \"19.9\",\n        },\n{\n            'v': 6.0,\n            'f': \"6.0\",\n        },\n{\n            'v': 5.0,\n            'f': \"5.0\",\n        },\n{\n            'v': 5.0,\n            'f': \"5.0\",\n        },\n{\n            'v': 5.0,\n            'f': \"5.0\",\n        },\n{\n            'v': 4.0,\n            'f': \"4.0\",\n        },\n{\n            'v': 4.0,\n            'f': \"4.0\",\n        },\n{\n            'v': 5.0,\n            'f': \"5.0\",\n        },\n{\n            'v': 7.0,\n            'f': \"7.0\",\n        }]],\n        columns: [[\"string\", \"index\"], [\"number\", \"match_id\"], [\"number\", \"season\"], [\"number\", \"innings\"], [\"number\", \"ball\"], [\"number\", \"runs_off_bat\"], [\"number\", \"extras\"], [\"number\", \"wides\"], [\"number\", \"noballs\"], [\"number\", \"byes\"], [\"number\", \"legbyes\"], [\"number\", \"penalty\"], [\"number\", \"total_run\"]],\n        columnOptions: [{\"width\": \"1px\", \"className\": \"index_column\"}],\n        rowsPerPage: 25,\n        helpUrl: \"https://colab.research.google.com/notebooks/data_table.ipynb\",\n        suppressOutputScrolling: true,\n        minimumWidth: undefined,\n      });\n    ",
            "text/html": [
              "<div>\n",
              "<style scoped>\n",
              "    .dataframe tbody tr th:only-of-type {\n",
              "        vertical-align: middle;\n",
              "    }\n",
              "\n",
              "    .dataframe tbody tr th {\n",
              "        vertical-align: top;\n",
              "    }\n",
              "\n",
              "    .dataframe thead th {\n",
              "        text-align: right;\n",
              "    }\n",
              "</style>\n",
              "<table border=\"1\" class=\"dataframe\">\n",
              "  <thead>\n",
              "    <tr style=\"text-align: right;\">\n",
              "      <th></th>\n",
              "      <th>match_id</th>\n",
              "      <th>season</th>\n",
              "      <th>innings</th>\n",
              "      <th>ball</th>\n",
              "      <th>runs_off_bat</th>\n",
              "      <th>extras</th>\n",
              "      <th>wides</th>\n",
              "      <th>noballs</th>\n",
              "      <th>byes</th>\n",
              "      <th>legbyes</th>\n",
              "      <th>penalty</th>\n",
              "      <th>total_run</th>\n",
              "    </tr>\n",
              "  </thead>\n",
              "  <tbody>\n",
              "    <tr>\n",
              "      <th>count</th>\n",
              "      <td>33786.000000</td>\n",
              "      <td>33786.000000</td>\n",
              "      <td>33786.000000</td>\n",
              "      <td>33786.000000</td>\n",
              "      <td>33786.000000</td>\n",
              "      <td>33786.000000</td>\n",
              "      <td>905.000000</td>\n",
              "      <td>126.000000</td>\n",
              "      <td>91.000000</td>\n",
              "      <td>574.000000</td>\n",
              "      <td>1.0</td>\n",
              "      <td>33786.000000</td>\n",
              "    </tr>\n",
              "    <tr>\n",
              "      <th>mean</th>\n",
              "      <td>73.158320</td>\n",
              "      <td>2018.019564</td>\n",
              "      <td>1.482626</td>\n",
              "      <td>9.401610</td>\n",
              "      <td>1.224324</td>\n",
              "      <td>0.065234</td>\n",
              "      <td>1.219890</td>\n",
              "      <td>1.031746</td>\n",
              "      <td>2.208791</td>\n",
              "      <td>1.331010</td>\n",
              "      <td>5.0</td>\n",
              "      <td>1.289558</td>\n",
              "    </tr>\n",
              "    <tr>\n",
              "      <th>std</th>\n",
              "      <td>41.928243</td>\n",
              "      <td>1.537649</td>\n",
              "      <td>0.504656</td>\n",
              "      <td>5.630495</td>\n",
              "      <td>1.619136</td>\n",
              "      <td>0.350066</td>\n",
              "      <td>0.842222</td>\n",
              "      <td>0.356348</td>\n",
              "      <td>1.426078</td>\n",
              "      <td>0.887285</td>\n",
              "      <td>NaN</td>\n",
              "      <td>1.610682</td>\n",
              "    </tr>\n",
              "    <tr>\n",
              "      <th>min</th>\n",
              "      <td>1.000000</td>\n",
              "      <td>2016.000000</td>\n",
              "      <td>1.000000</td>\n",
              "      <td>0.100000</td>\n",
              "      <td>0.000000</td>\n",
              "      <td>0.000000</td>\n",
              "      <td>1.000000</td>\n",
              "      <td>1.000000</td>\n",
              "      <td>1.000000</td>\n",
              "      <td>1.000000</td>\n",
              "      <td>5.0</td>\n",
              "      <td>0.000000</td>\n",
              "    </tr>\n",
              "    <tr>\n",
              "      <th>25%</th>\n",
              "      <td>37.000000</td>\n",
              "      <td>2016.000000</td>\n",
              "      <td>1.000000</td>\n",
              "      <td>4.500000</td>\n",
              "      <td>0.000000</td>\n",
              "      <td>0.000000</td>\n",
              "      <td>1.000000</td>\n",
              "      <td>1.000000</td>\n",
              "      <td>1.000000</td>\n",
              "      <td>1.000000</td>\n",
              "      <td>5.0</td>\n",
              "      <td>0.000000</td>\n",
              "    </tr>\n",
              "    <tr>\n",
              "      <th>50%</th>\n",
              "      <td>73.000000</td>\n",
              "      <td>2018.000000</td>\n",
              "      <td>1.000000</td>\n",
              "      <td>9.300000</td>\n",
              "      <td>1.000000</td>\n",
              "      <td>0.000000</td>\n",
              "      <td>1.000000</td>\n",
              "      <td>1.000000</td>\n",
              "      <td>1.000000</td>\n",
              "      <td>1.000000</td>\n",
              "      <td>5.0</td>\n",
              "      <td>1.000000</td>\n",
              "    </tr>\n",
              "    <tr>\n",
              "      <th>75%</th>\n",
              "      <td>109.000000</td>\n",
              "      <td>2019.000000</td>\n",
              "      <td>2.000000</td>\n",
              "      <td>14.200000</td>\n",
              "      <td>1.000000</td>\n",
              "      <td>0.000000</td>\n",
              "      <td>1.000000</td>\n",
              "      <td>1.000000</td>\n",
              "      <td>4.000000</td>\n",
              "      <td>1.000000</td>\n",
              "      <td>5.0</td>\n",
              "      <td>1.000000</td>\n",
              "    </tr>\n",
              "    <tr>\n",
              "      <th>max</th>\n",
              "      <td>146.000000</td>\n",
              "      <td>2020.000000</td>\n",
              "      <td>4.000000</td>\n",
              "      <td>19.900000</td>\n",
              "      <td>6.000000</td>\n",
              "      <td>5.000000</td>\n",
              "      <td>5.000000</td>\n",
              "      <td>5.000000</td>\n",
              "      <td>4.000000</td>\n",
              "      <td>4.000000</td>\n",
              "      <td>5.0</td>\n",
              "      <td>7.000000</td>\n",
              "    </tr>\n",
              "  </tbody>\n",
              "</table>\n",
              "</div>"
            ],
            "text/plain": [
              "           match_id        season  ...  penalty     total_run\n",
              "count  33786.000000  33786.000000  ...      1.0  33786.000000\n",
              "mean      73.158320   2018.019564  ...      5.0      1.289558\n",
              "std       41.928243      1.537649  ...      NaN      1.610682\n",
              "min        1.000000   2016.000000  ...      5.0      0.000000\n",
              "25%       37.000000   2016.000000  ...      5.0      0.000000\n",
              "50%       73.000000   2018.000000  ...      5.0      1.000000\n",
              "75%      109.000000   2019.000000  ...      5.0      1.000000\n",
              "max      146.000000   2020.000000  ...      5.0      7.000000\n",
              "\n",
              "[8 rows x 12 columns]"
            ]
          },
          "metadata": {
            "tags": []
          },
          "execution_count": 211
        }
      ]
    },
    {
      "cell_type": "code",
      "metadata": {
        "id": "E7Y6CagtpkpA",
        "colab": {
          "base_uri": "https://localhost:8080/",
          "height": 257
        },
        "outputId": "d7519606-2adb-4aa5-9339-f81d012fd23b"
      },
      "source": [
        "#IPl matches datatset\r\n",
        "pslmatches.describe()"
      ],
      "execution_count": 212,
      "outputs": [
        {
          "output_type": "execute_result",
          "data": {
            "application/vnd.google.colaboratory.module+javascript": "\n      import \"https://ssl.gstatic.com/colaboratory/data_table/a6224c040fa35dcf/data_table.js\";\n\n      window.createDataTable({\n        data: [[\"count\",\n{\n            'v': 146.0,\n            'f': \"146.0\",\n        },\n{\n            'v': 146.0,\n            'f': \"146.0\",\n        },\n{\n            'v': 146.0,\n            'f': \"146.0\",\n        },\n{\n            'v': 146.0,\n            'f': \"146.0\",\n        }],\n [\"mean\",\n{\n            'v': 73.5,\n            'f': \"73.5\",\n        },\n{\n            'v': 2018.1917808219177,\n            'f': \"2018.1917808219177\",\n        },\n{\n            'v': 3.684931506849315,\n            'f': \"3.684931506849315\",\n        },\n{\n            'v': 9.178082191780822,\n            'f': \"9.178082191780822\",\n        }],\n [\"std\",\n{\n            'v': 42.290660907581,\n            'f': \"42.290660907581\",\n        },\n{\n            'v': 1.371206709903665,\n            'f': \"1.371206709903665\",\n        },\n{\n            'v': 3.2689836544723474,\n            'f': \"3.2689836544723474\",\n        },\n{\n            'v': 17.416078552840617,\n            'f': \"17.416078552840617\",\n        }],\n [\"min\",\n{\n            'v': 1.0,\n            'f': \"1.0\",\n        },\n{\n            'v': 2016.0,\n            'f': \"2016.0\",\n        },\n{\n            'v': 0.0,\n            'f': \"0.0\",\n        },\n{\n            'v': 0.0,\n            'f': \"0.0\",\n        }],\n [\"25%\",\n{\n            'v': 37.25,\n            'f': \"37.25\",\n        },\n{\n            'v': 2017.0,\n            'f': \"2017.0\",\n        },\n{\n            'v': 0.0,\n            'f': \"0.0\",\n        },\n{\n            'v': 0.0,\n            'f': \"0.0\",\n        }],\n [\"50%\",\n{\n            'v': 73.5,\n            'f': \"73.5\",\n        },\n{\n            'v': 2018.0,\n            'f': \"2018.0\",\n        },\n{\n            'v': 5.0,\n            'f': \"5.0\",\n        },\n{\n            'v': 0.0,\n            'f': \"0.0\",\n        }],\n [\"75%\",\n{\n            'v': 109.75,\n            'f': \"109.75\",\n        },\n{\n            'v': 2019.0,\n            'f': \"2019.0\",\n        },\n{\n            'v': 6.0,\n            'f': \"6.0\",\n        },\n{\n            'v': 8.75,\n            'f': \"8.75\",\n        }],\n [\"max\",\n{\n            'v': 146.0,\n            'f': \"146.0\",\n        },\n{\n            'v': 2020.0,\n            'f': \"2020.0\",\n        },\n{\n            'v': 10.0,\n            'f': \"10.0\",\n        },\n{\n            'v': 71.0,\n            'f': \"71.0\",\n        }]],\n        columns: [[\"string\", \"index\"], [\"number\", \"Id\"], [\"number\", \"season\"], [\"number\", \"win_by_wickets\"], [\"number\", \"win_by_runs\"]],\n        columnOptions: [{\"width\": \"1px\", \"className\": \"index_column\"}],\n        rowsPerPage: 25,\n        helpUrl: \"https://colab.research.google.com/notebooks/data_table.ipynb\",\n        suppressOutputScrolling: true,\n        minimumWidth: undefined,\n      });\n    ",
            "text/html": [
              "<div>\n",
              "<style scoped>\n",
              "    .dataframe tbody tr th:only-of-type {\n",
              "        vertical-align: middle;\n",
              "    }\n",
              "\n",
              "    .dataframe tbody tr th {\n",
              "        vertical-align: top;\n",
              "    }\n",
              "\n",
              "    .dataframe thead th {\n",
              "        text-align: right;\n",
              "    }\n",
              "</style>\n",
              "<table border=\"1\" class=\"dataframe\">\n",
              "  <thead>\n",
              "    <tr style=\"text-align: right;\">\n",
              "      <th></th>\n",
              "      <th>Id</th>\n",
              "      <th>season</th>\n",
              "      <th>win_by_wickets</th>\n",
              "      <th>win_by_runs</th>\n",
              "    </tr>\n",
              "  </thead>\n",
              "  <tbody>\n",
              "    <tr>\n",
              "      <th>count</th>\n",
              "      <td>146.000000</td>\n",
              "      <td>146.000000</td>\n",
              "      <td>146.000000</td>\n",
              "      <td>146.000000</td>\n",
              "    </tr>\n",
              "    <tr>\n",
              "      <th>mean</th>\n",
              "      <td>73.500000</td>\n",
              "      <td>2018.191781</td>\n",
              "      <td>3.684932</td>\n",
              "      <td>9.178082</td>\n",
              "    </tr>\n",
              "    <tr>\n",
              "      <th>std</th>\n",
              "      <td>42.290661</td>\n",
              "      <td>1.371207</td>\n",
              "      <td>3.268984</td>\n",
              "      <td>17.416079</td>\n",
              "    </tr>\n",
              "    <tr>\n",
              "      <th>min</th>\n",
              "      <td>1.000000</td>\n",
              "      <td>2016.000000</td>\n",
              "      <td>0.000000</td>\n",
              "      <td>0.000000</td>\n",
              "    </tr>\n",
              "    <tr>\n",
              "      <th>25%</th>\n",
              "      <td>37.250000</td>\n",
              "      <td>2017.000000</td>\n",
              "      <td>0.000000</td>\n",
              "      <td>0.000000</td>\n",
              "    </tr>\n",
              "    <tr>\n",
              "      <th>50%</th>\n",
              "      <td>73.500000</td>\n",
              "      <td>2018.000000</td>\n",
              "      <td>5.000000</td>\n",
              "      <td>0.000000</td>\n",
              "    </tr>\n",
              "    <tr>\n",
              "      <th>75%</th>\n",
              "      <td>109.750000</td>\n",
              "      <td>2019.000000</td>\n",
              "      <td>6.000000</td>\n",
              "      <td>8.750000</td>\n",
              "    </tr>\n",
              "    <tr>\n",
              "      <th>max</th>\n",
              "      <td>146.000000</td>\n",
              "      <td>2020.000000</td>\n",
              "      <td>10.000000</td>\n",
              "      <td>71.000000</td>\n",
              "    </tr>\n",
              "  </tbody>\n",
              "</table>\n",
              "</div>"
            ],
            "text/plain": [
              "               Id       season  win_by_wickets  win_by_runs\n",
              "count  146.000000   146.000000      146.000000   146.000000\n",
              "mean    73.500000  2018.191781        3.684932     9.178082\n",
              "std     42.290661     1.371207        3.268984    17.416079\n",
              "min      1.000000  2016.000000        0.000000     0.000000\n",
              "25%     37.250000  2017.000000        0.000000     0.000000\n",
              "50%     73.500000  2018.000000        5.000000     0.000000\n",
              "75%    109.750000  2019.000000        6.000000     8.750000\n",
              "max    146.000000  2020.000000       10.000000    71.000000"
            ]
          },
          "metadata": {
            "tags": []
          },
          "execution_count": 212
        }
      ]
    },
    {
      "cell_type": "markdown",
      "metadata": {
        "id": "hodIKZI9mf0Y"
      },
      "source": [
        "**Shape of datatset**"
      ]
    },
    {
      "cell_type": "code",
      "metadata": {
        "colab": {
          "base_uri": "https://localhost:8080/"
        },
        "id": "eaeW0HrhmigP",
        "outputId": "7fd27e0b-1fba-4e21-94f1-7b6fb4eef5d3"
      },
      "source": [
        "# Total Rows & Columns in Psl delivery datatset\r\n",
        "pslball.shape"
      ],
      "execution_count": 251,
      "outputs": [
        {
          "output_type": "execute_result",
          "data": {
            "text/plain": [
              "(33786, 21)"
            ]
          },
          "metadata": {
            "tags": []
          },
          "execution_count": 251
        }
      ]
    },
    {
      "cell_type": "code",
      "metadata": {
        "colab": {
          "base_uri": "https://localhost:8080/"
        },
        "id": "u66lNOKlnfXn",
        "outputId": "66451816-bffb-4b3a-bba7-f33024fbde09"
      },
      "source": [
        "#Total Rows & Columns in Psl match datatset\r\n",
        "pslmatches.shape"
      ],
      "execution_count": 214,
      "outputs": [
        {
          "output_type": "execute_result",
          "data": {
            "text/plain": [
              "(146, 15)"
            ]
          },
          "metadata": {
            "tags": []
          },
          "execution_count": 214
        }
      ]
    },
    {
      "cell_type": "markdown",
      "metadata": {
        "id": "wuRBieq3oE1_"
      },
      "source": [
        "**Checking Missing values**"
      ]
    },
    {
      "cell_type": "code",
      "metadata": {
        "id": "Z2N_JsWfoMy8",
        "colab": {
          "base_uri": "https://localhost:8080/",
          "height": 439
        },
        "outputId": "287142a5-5dd1-402a-f194-270abf9c1606"
      },
      "source": [
        "#Psl delivery datatset\r\n",
        "null= pslball.isnull()\r\n",
        "null"
      ],
      "execution_count": 215,
      "outputs": [
        {
          "output_type": "execute_result",
          "data": {
            "text/html": [
              "<div>\n",
              "<style scoped>\n",
              "    .dataframe tbody tr th:only-of-type {\n",
              "        vertical-align: middle;\n",
              "    }\n",
              "\n",
              "    .dataframe tbody tr th {\n",
              "        vertical-align: top;\n",
              "    }\n",
              "\n",
              "    .dataframe thead th {\n",
              "        text-align: right;\n",
              "    }\n",
              "</style>\n",
              "<table border=\"1\" class=\"dataframe\">\n",
              "  <thead>\n",
              "    <tr style=\"text-align: right;\">\n",
              "      <th></th>\n",
              "      <th>match_id</th>\n",
              "      <th>season</th>\n",
              "      <th>start_date</th>\n",
              "      <th>venue</th>\n",
              "      <th>innings</th>\n",
              "      <th>ball</th>\n",
              "      <th>batting_team</th>\n",
              "      <th>bowling_team</th>\n",
              "      <th>striker</th>\n",
              "      <th>non_striker</th>\n",
              "      <th>bowler</th>\n",
              "      <th>runs_off_bat</th>\n",
              "      <th>extras</th>\n",
              "      <th>wides</th>\n",
              "      <th>noballs</th>\n",
              "      <th>byes</th>\n",
              "      <th>legbyes</th>\n",
              "      <th>penalty</th>\n",
              "      <th>wicket_type</th>\n",
              "      <th>player_dismissed</th>\n",
              "      <th>total_run</th>\n",
              "    </tr>\n",
              "  </thead>\n",
              "  <tbody>\n",
              "    <tr>\n",
              "      <th>0</th>\n",
              "      <td>False</td>\n",
              "      <td>False</td>\n",
              "      <td>False</td>\n",
              "      <td>False</td>\n",
              "      <td>False</td>\n",
              "      <td>False</td>\n",
              "      <td>False</td>\n",
              "      <td>False</td>\n",
              "      <td>False</td>\n",
              "      <td>False</td>\n",
              "      <td>False</td>\n",
              "      <td>False</td>\n",
              "      <td>False</td>\n",
              "      <td>True</td>\n",
              "      <td>True</td>\n",
              "      <td>True</td>\n",
              "      <td>True</td>\n",
              "      <td>True</td>\n",
              "      <td>False</td>\n",
              "      <td>False</td>\n",
              "      <td>False</td>\n",
              "    </tr>\n",
              "    <tr>\n",
              "      <th>1</th>\n",
              "      <td>False</td>\n",
              "      <td>False</td>\n",
              "      <td>False</td>\n",
              "      <td>False</td>\n",
              "      <td>False</td>\n",
              "      <td>False</td>\n",
              "      <td>False</td>\n",
              "      <td>False</td>\n",
              "      <td>False</td>\n",
              "      <td>False</td>\n",
              "      <td>False</td>\n",
              "      <td>False</td>\n",
              "      <td>False</td>\n",
              "      <td>True</td>\n",
              "      <td>True</td>\n",
              "      <td>True</td>\n",
              "      <td>True</td>\n",
              "      <td>True</td>\n",
              "      <td>True</td>\n",
              "      <td>True</td>\n",
              "      <td>False</td>\n",
              "    </tr>\n",
              "    <tr>\n",
              "      <th>2</th>\n",
              "      <td>False</td>\n",
              "      <td>False</td>\n",
              "      <td>False</td>\n",
              "      <td>False</td>\n",
              "      <td>False</td>\n",
              "      <td>False</td>\n",
              "      <td>False</td>\n",
              "      <td>False</td>\n",
              "      <td>False</td>\n",
              "      <td>False</td>\n",
              "      <td>False</td>\n",
              "      <td>False</td>\n",
              "      <td>False</td>\n",
              "      <td>True</td>\n",
              "      <td>True</td>\n",
              "      <td>True</td>\n",
              "      <td>True</td>\n",
              "      <td>True</td>\n",
              "      <td>True</td>\n",
              "      <td>True</td>\n",
              "      <td>False</td>\n",
              "    </tr>\n",
              "    <tr>\n",
              "      <th>3</th>\n",
              "      <td>False</td>\n",
              "      <td>False</td>\n",
              "      <td>False</td>\n",
              "      <td>False</td>\n",
              "      <td>False</td>\n",
              "      <td>False</td>\n",
              "      <td>False</td>\n",
              "      <td>False</td>\n",
              "      <td>False</td>\n",
              "      <td>False</td>\n",
              "      <td>False</td>\n",
              "      <td>False</td>\n",
              "      <td>False</td>\n",
              "      <td>True</td>\n",
              "      <td>True</td>\n",
              "      <td>True</td>\n",
              "      <td>True</td>\n",
              "      <td>True</td>\n",
              "      <td>True</td>\n",
              "      <td>True</td>\n",
              "      <td>False</td>\n",
              "    </tr>\n",
              "    <tr>\n",
              "      <th>4</th>\n",
              "      <td>False</td>\n",
              "      <td>False</td>\n",
              "      <td>False</td>\n",
              "      <td>False</td>\n",
              "      <td>False</td>\n",
              "      <td>False</td>\n",
              "      <td>False</td>\n",
              "      <td>False</td>\n",
              "      <td>False</td>\n",
              "      <td>False</td>\n",
              "      <td>False</td>\n",
              "      <td>False</td>\n",
              "      <td>False</td>\n",
              "      <td>True</td>\n",
              "      <td>True</td>\n",
              "      <td>True</td>\n",
              "      <td>True</td>\n",
              "      <td>True</td>\n",
              "      <td>True</td>\n",
              "      <td>True</td>\n",
              "      <td>False</td>\n",
              "    </tr>\n",
              "    <tr>\n",
              "      <th>...</th>\n",
              "      <td>...</td>\n",
              "      <td>...</td>\n",
              "      <td>...</td>\n",
              "      <td>...</td>\n",
              "      <td>...</td>\n",
              "      <td>...</td>\n",
              "      <td>...</td>\n",
              "      <td>...</td>\n",
              "      <td>...</td>\n",
              "      <td>...</td>\n",
              "      <td>...</td>\n",
              "      <td>...</td>\n",
              "      <td>...</td>\n",
              "      <td>...</td>\n",
              "      <td>...</td>\n",
              "      <td>...</td>\n",
              "      <td>...</td>\n",
              "      <td>...</td>\n",
              "      <td>...</td>\n",
              "      <td>...</td>\n",
              "      <td>...</td>\n",
              "    </tr>\n",
              "    <tr>\n",
              "      <th>33781</th>\n",
              "      <td>False</td>\n",
              "      <td>False</td>\n",
              "      <td>False</td>\n",
              "      <td>False</td>\n",
              "      <td>False</td>\n",
              "      <td>False</td>\n",
              "      <td>False</td>\n",
              "      <td>False</td>\n",
              "      <td>False</td>\n",
              "      <td>False</td>\n",
              "      <td>False</td>\n",
              "      <td>False</td>\n",
              "      <td>False</td>\n",
              "      <td>True</td>\n",
              "      <td>True</td>\n",
              "      <td>True</td>\n",
              "      <td>True</td>\n",
              "      <td>True</td>\n",
              "      <td>True</td>\n",
              "      <td>True</td>\n",
              "      <td>False</td>\n",
              "    </tr>\n",
              "    <tr>\n",
              "      <th>33782</th>\n",
              "      <td>False</td>\n",
              "      <td>False</td>\n",
              "      <td>False</td>\n",
              "      <td>False</td>\n",
              "      <td>False</td>\n",
              "      <td>False</td>\n",
              "      <td>False</td>\n",
              "      <td>False</td>\n",
              "      <td>False</td>\n",
              "      <td>False</td>\n",
              "      <td>False</td>\n",
              "      <td>False</td>\n",
              "      <td>False</td>\n",
              "      <td>True</td>\n",
              "      <td>True</td>\n",
              "      <td>True</td>\n",
              "      <td>True</td>\n",
              "      <td>True</td>\n",
              "      <td>True</td>\n",
              "      <td>True</td>\n",
              "      <td>False</td>\n",
              "    </tr>\n",
              "    <tr>\n",
              "      <th>33783</th>\n",
              "      <td>False</td>\n",
              "      <td>False</td>\n",
              "      <td>False</td>\n",
              "      <td>False</td>\n",
              "      <td>False</td>\n",
              "      <td>False</td>\n",
              "      <td>False</td>\n",
              "      <td>False</td>\n",
              "      <td>False</td>\n",
              "      <td>False</td>\n",
              "      <td>False</td>\n",
              "      <td>False</td>\n",
              "      <td>False</td>\n",
              "      <td>True</td>\n",
              "      <td>True</td>\n",
              "      <td>True</td>\n",
              "      <td>True</td>\n",
              "      <td>True</td>\n",
              "      <td>True</td>\n",
              "      <td>True</td>\n",
              "      <td>False</td>\n",
              "    </tr>\n",
              "    <tr>\n",
              "      <th>33784</th>\n",
              "      <td>False</td>\n",
              "      <td>False</td>\n",
              "      <td>False</td>\n",
              "      <td>False</td>\n",
              "      <td>False</td>\n",
              "      <td>False</td>\n",
              "      <td>False</td>\n",
              "      <td>False</td>\n",
              "      <td>False</td>\n",
              "      <td>False</td>\n",
              "      <td>False</td>\n",
              "      <td>False</td>\n",
              "      <td>False</td>\n",
              "      <td>True</td>\n",
              "      <td>True</td>\n",
              "      <td>True</td>\n",
              "      <td>True</td>\n",
              "      <td>True</td>\n",
              "      <td>True</td>\n",
              "      <td>True</td>\n",
              "      <td>False</td>\n",
              "    </tr>\n",
              "    <tr>\n",
              "      <th>33785</th>\n",
              "      <td>False</td>\n",
              "      <td>False</td>\n",
              "      <td>False</td>\n",
              "      <td>False</td>\n",
              "      <td>False</td>\n",
              "      <td>False</td>\n",
              "      <td>False</td>\n",
              "      <td>False</td>\n",
              "      <td>False</td>\n",
              "      <td>False</td>\n",
              "      <td>False</td>\n",
              "      <td>False</td>\n",
              "      <td>False</td>\n",
              "      <td>True</td>\n",
              "      <td>True</td>\n",
              "      <td>True</td>\n",
              "      <td>True</td>\n",
              "      <td>True</td>\n",
              "      <td>True</td>\n",
              "      <td>True</td>\n",
              "      <td>False</td>\n",
              "    </tr>\n",
              "  </tbody>\n",
              "</table>\n",
              "<p>33786 rows × 21 columns</p>\n",
              "</div>"
            ],
            "text/plain": [
              "       match_id  season  start_date  ...  wicket_type  player_dismissed  total_run\n",
              "0         False   False       False  ...        False             False      False\n",
              "1         False   False       False  ...         True              True      False\n",
              "2         False   False       False  ...         True              True      False\n",
              "3         False   False       False  ...         True              True      False\n",
              "4         False   False       False  ...         True              True      False\n",
              "...         ...     ...         ...  ...          ...               ...        ...\n",
              "33781     False   False       False  ...         True              True      False\n",
              "33782     False   False       False  ...         True              True      False\n",
              "33783     False   False       False  ...         True              True      False\n",
              "33784     False   False       False  ...         True              True      False\n",
              "33785     False   False       False  ...         True              True      False\n",
              "\n",
              "[33786 rows x 21 columns]"
            ]
          },
          "metadata": {
            "tags": []
          },
          "execution_count": 215
        }
      ]
    },
    {
      "cell_type": "code",
      "metadata": {
        "id": "fraZyUt6o49D",
        "colab": {
          "base_uri": "https://localhost:8080/",
          "height": 640
        },
        "outputId": "9195e404-22f8-4bca-8eee-d892d756f952"
      },
      "source": [
        "#Psl matches datatset\r\n",
        "null= pslmatches.isnull()\r\n",
        "null"
      ],
      "execution_count": 216,
      "outputs": [
        {
          "output_type": "execute_result",
          "data": {
            "application/vnd.google.colaboratory.module+javascript": "\n      import \"https://ssl.gstatic.com/colaboratory/data_table/a6224c040fa35dcf/data_table.js\";\n\n      window.createDataTable({\n        data: [[{\n            'v': 0,\n            'f': \"0\",\n        },\nfalse,\nfalse,\nfalse,\nfalse,\nfalse,\nfalse,\nfalse,\nfalse,\nfalse,\nfalse,\nfalse,\nfalse,\nfalse,\nfalse,\nfalse],\n [{\n            'v': 1,\n            'f': \"1\",\n        },\nfalse,\nfalse,\nfalse,\nfalse,\nfalse,\nfalse,\nfalse,\nfalse,\nfalse,\nfalse,\nfalse,\nfalse,\nfalse,\nfalse,\nfalse],\n [{\n            'v': 2,\n            'f': \"2\",\n        },\nfalse,\nfalse,\nfalse,\nfalse,\nfalse,\nfalse,\nfalse,\nfalse,\nfalse,\nfalse,\nfalse,\nfalse,\nfalse,\nfalse,\nfalse],\n [{\n            'v': 3,\n            'f': \"3\",\n        },\nfalse,\nfalse,\nfalse,\nfalse,\nfalse,\nfalse,\nfalse,\nfalse,\nfalse,\nfalse,\nfalse,\nfalse,\nfalse,\nfalse,\nfalse],\n [{\n            'v': 4,\n            'f': \"4\",\n        },\nfalse,\nfalse,\nfalse,\nfalse,\nfalse,\nfalse,\nfalse,\nfalse,\nfalse,\nfalse,\nfalse,\nfalse,\nfalse,\nfalse,\nfalse],\n [{\n            'v': 5,\n            'f': \"5\",\n        },\nfalse,\nfalse,\nfalse,\nfalse,\nfalse,\nfalse,\nfalse,\nfalse,\nfalse,\nfalse,\nfalse,\nfalse,\nfalse,\nfalse,\nfalse],\n [{\n            'v': 6,\n            'f': \"6\",\n        },\nfalse,\nfalse,\nfalse,\nfalse,\nfalse,\nfalse,\nfalse,\nfalse,\nfalse,\nfalse,\nfalse,\nfalse,\nfalse,\nfalse,\nfalse],\n [{\n            'v': 7,\n            'f': \"7\",\n        },\nfalse,\nfalse,\nfalse,\nfalse,\nfalse,\nfalse,\nfalse,\nfalse,\nfalse,\nfalse,\nfalse,\nfalse,\nfalse,\nfalse,\nfalse],\n [{\n            'v': 8,\n            'f': \"8\",\n        },\nfalse,\nfalse,\nfalse,\nfalse,\nfalse,\nfalse,\nfalse,\nfalse,\nfalse,\nfalse,\nfalse,\nfalse,\nfalse,\nfalse,\nfalse],\n [{\n            'v': 9,\n            'f': \"9\",\n        },\nfalse,\nfalse,\nfalse,\nfalse,\nfalse,\nfalse,\nfalse,\nfalse,\nfalse,\nfalse,\nfalse,\nfalse,\nfalse,\nfalse,\nfalse],\n [{\n            'v': 10,\n            'f': \"10\",\n        },\nfalse,\nfalse,\nfalse,\nfalse,\nfalse,\nfalse,\nfalse,\nfalse,\nfalse,\nfalse,\nfalse,\nfalse,\nfalse,\nfalse,\nfalse],\n [{\n            'v': 11,\n            'f': \"11\",\n        },\nfalse,\nfalse,\nfalse,\nfalse,\nfalse,\nfalse,\nfalse,\nfalse,\nfalse,\nfalse,\nfalse,\nfalse,\nfalse,\nfalse,\nfalse],\n [{\n            'v': 12,\n            'f': \"12\",\n        },\nfalse,\nfalse,\nfalse,\nfalse,\nfalse,\nfalse,\nfalse,\nfalse,\nfalse,\nfalse,\nfalse,\nfalse,\nfalse,\nfalse,\nfalse],\n [{\n            'v': 13,\n            'f': \"13\",\n        },\nfalse,\nfalse,\nfalse,\nfalse,\nfalse,\nfalse,\nfalse,\nfalse,\nfalse,\nfalse,\nfalse,\nfalse,\nfalse,\nfalse,\nfalse],\n [{\n            'v': 14,\n            'f': \"14\",\n        },\nfalse,\nfalse,\nfalse,\nfalse,\nfalse,\nfalse,\nfalse,\nfalse,\nfalse,\nfalse,\nfalse,\nfalse,\nfalse,\nfalse,\nfalse],\n [{\n            'v': 15,\n            'f': \"15\",\n        },\nfalse,\nfalse,\nfalse,\nfalse,\nfalse,\nfalse,\nfalse,\nfalse,\nfalse,\nfalse,\nfalse,\nfalse,\nfalse,\nfalse,\nfalse],\n [{\n            'v': 16,\n            'f': \"16\",\n        },\nfalse,\nfalse,\nfalse,\nfalse,\nfalse,\nfalse,\nfalse,\nfalse,\nfalse,\nfalse,\nfalse,\nfalse,\nfalse,\nfalse,\nfalse],\n [{\n            'v': 17,\n            'f': \"17\",\n        },\nfalse,\nfalse,\nfalse,\nfalse,\nfalse,\nfalse,\nfalse,\nfalse,\nfalse,\nfalse,\nfalse,\nfalse,\nfalse,\nfalse,\nfalse],\n [{\n            'v': 18,\n            'f': \"18\",\n        },\nfalse,\nfalse,\nfalse,\nfalse,\nfalse,\nfalse,\nfalse,\nfalse,\nfalse,\nfalse,\nfalse,\nfalse,\nfalse,\nfalse,\nfalse],\n [{\n            'v': 19,\n            'f': \"19\",\n        },\nfalse,\nfalse,\nfalse,\nfalse,\nfalse,\nfalse,\nfalse,\nfalse,\nfalse,\nfalse,\nfalse,\nfalse,\nfalse,\nfalse,\nfalse],\n [{\n            'v': 20,\n            'f': \"20\",\n        },\nfalse,\nfalse,\nfalse,\nfalse,\nfalse,\nfalse,\nfalse,\nfalse,\nfalse,\nfalse,\nfalse,\nfalse,\nfalse,\nfalse,\nfalse],\n [{\n            'v': 21,\n            'f': \"21\",\n        },\nfalse,\nfalse,\nfalse,\nfalse,\nfalse,\nfalse,\nfalse,\nfalse,\nfalse,\nfalse,\nfalse,\nfalse,\nfalse,\nfalse,\nfalse],\n [{\n            'v': 22,\n            'f': \"22\",\n        },\nfalse,\nfalse,\nfalse,\nfalse,\nfalse,\nfalse,\nfalse,\nfalse,\nfalse,\nfalse,\nfalse,\nfalse,\nfalse,\nfalse,\nfalse],\n [{\n            'v': 23,\n            'f': \"23\",\n        },\nfalse,\nfalse,\nfalse,\nfalse,\nfalse,\nfalse,\nfalse,\nfalse,\nfalse,\nfalse,\nfalse,\nfalse,\nfalse,\nfalse,\nfalse],\n [{\n            'v': 24,\n            'f': \"24\",\n        },\nfalse,\nfalse,\nfalse,\nfalse,\nfalse,\nfalse,\nfalse,\nfalse,\nfalse,\nfalse,\nfalse,\nfalse,\nfalse,\nfalse,\nfalse],\n [{\n            'v': 25,\n            'f': \"25\",\n        },\nfalse,\nfalse,\nfalse,\nfalse,\nfalse,\nfalse,\nfalse,\nfalse,\nfalse,\nfalse,\nfalse,\nfalse,\nfalse,\nfalse,\nfalse],\n [{\n            'v': 26,\n            'f': \"26\",\n        },\nfalse,\nfalse,\nfalse,\nfalse,\nfalse,\nfalse,\nfalse,\nfalse,\nfalse,\nfalse,\nfalse,\nfalse,\nfalse,\nfalse,\nfalse],\n [{\n            'v': 27,\n            'f': \"27\",\n        },\nfalse,\nfalse,\nfalse,\nfalse,\nfalse,\nfalse,\nfalse,\nfalse,\nfalse,\nfalse,\nfalse,\nfalse,\nfalse,\nfalse,\nfalse],\n [{\n            'v': 28,\n            'f': \"28\",\n        },\nfalse,\nfalse,\nfalse,\nfalse,\nfalse,\nfalse,\nfalse,\nfalse,\nfalse,\nfalse,\nfalse,\nfalse,\nfalse,\nfalse,\nfalse],\n [{\n            'v': 29,\n            'f': \"29\",\n        },\nfalse,\nfalse,\nfalse,\nfalse,\nfalse,\nfalse,\nfalse,\nfalse,\nfalse,\nfalse,\nfalse,\nfalse,\nfalse,\nfalse,\nfalse],\n [{\n            'v': 30,\n            'f': \"30\",\n        },\nfalse,\nfalse,\nfalse,\nfalse,\nfalse,\nfalse,\nfalse,\nfalse,\nfalse,\nfalse,\nfalse,\nfalse,\nfalse,\nfalse,\nfalse],\n [{\n            'v': 31,\n            'f': \"31\",\n        },\nfalse,\nfalse,\nfalse,\nfalse,\nfalse,\nfalse,\nfalse,\nfalse,\nfalse,\nfalse,\nfalse,\nfalse,\nfalse,\nfalse,\nfalse],\n [{\n            'v': 32,\n            'f': \"32\",\n        },\nfalse,\nfalse,\nfalse,\nfalse,\nfalse,\nfalse,\nfalse,\nfalse,\nfalse,\nfalse,\ntrue,\nfalse,\nfalse,\nfalse,\nfalse],\n [{\n            'v': 33,\n            'f': \"33\",\n        },\nfalse,\nfalse,\nfalse,\nfalse,\nfalse,\nfalse,\nfalse,\nfalse,\nfalse,\nfalse,\nfalse,\nfalse,\nfalse,\nfalse,\nfalse],\n [{\n            'v': 34,\n            'f': \"34\",\n        },\nfalse,\nfalse,\nfalse,\nfalse,\nfalse,\nfalse,\nfalse,\nfalse,\nfalse,\nfalse,\nfalse,\nfalse,\nfalse,\nfalse,\nfalse],\n [{\n            'v': 35,\n            'f': \"35\",\n        },\nfalse,\nfalse,\nfalse,\nfalse,\nfalse,\nfalse,\nfalse,\nfalse,\nfalse,\nfalse,\nfalse,\nfalse,\nfalse,\nfalse,\nfalse],\n [{\n            'v': 36,\n            'f': \"36\",\n        },\nfalse,\nfalse,\nfalse,\nfalse,\nfalse,\nfalse,\nfalse,\nfalse,\nfalse,\nfalse,\nfalse,\nfalse,\nfalse,\nfalse,\nfalse],\n [{\n            'v': 37,\n            'f': \"37\",\n        },\nfalse,\nfalse,\nfalse,\nfalse,\nfalse,\nfalse,\nfalse,\nfalse,\nfalse,\nfalse,\nfalse,\nfalse,\nfalse,\nfalse,\nfalse],\n [{\n            'v': 38,\n            'f': \"38\",\n        },\nfalse,\nfalse,\nfalse,\nfalse,\nfalse,\nfalse,\nfalse,\nfalse,\nfalse,\nfalse,\nfalse,\nfalse,\nfalse,\nfalse,\nfalse],\n [{\n            'v': 39,\n            'f': \"39\",\n        },\nfalse,\nfalse,\nfalse,\nfalse,\nfalse,\nfalse,\nfalse,\nfalse,\nfalse,\nfalse,\nfalse,\nfalse,\nfalse,\nfalse,\nfalse],\n [{\n            'v': 40,\n            'f': \"40\",\n        },\nfalse,\nfalse,\nfalse,\nfalse,\nfalse,\nfalse,\nfalse,\nfalse,\nfalse,\nfalse,\nfalse,\nfalse,\nfalse,\nfalse,\nfalse],\n [{\n            'v': 41,\n            'f': \"41\",\n        },\nfalse,\nfalse,\nfalse,\nfalse,\nfalse,\nfalse,\nfalse,\nfalse,\nfalse,\nfalse,\nfalse,\nfalse,\nfalse,\nfalse,\nfalse],\n [{\n            'v': 42,\n            'f': \"42\",\n        },\nfalse,\nfalse,\nfalse,\nfalse,\nfalse,\nfalse,\nfalse,\nfalse,\nfalse,\nfalse,\nfalse,\nfalse,\nfalse,\nfalse,\nfalse],\n [{\n            'v': 43,\n            'f': \"43\",\n        },\nfalse,\nfalse,\nfalse,\nfalse,\nfalse,\nfalse,\nfalse,\nfalse,\nfalse,\nfalse,\nfalse,\nfalse,\nfalse,\nfalse,\nfalse],\n [{\n            'v': 44,\n            'f': \"44\",\n        },\nfalse,\nfalse,\nfalse,\nfalse,\nfalse,\nfalse,\nfalse,\nfalse,\nfalse,\nfalse,\nfalse,\nfalse,\nfalse,\nfalse,\nfalse],\n [{\n            'v': 45,\n            'f': \"45\",\n        },\nfalse,\nfalse,\nfalse,\nfalse,\nfalse,\nfalse,\nfalse,\nfalse,\nfalse,\nfalse,\nfalse,\nfalse,\nfalse,\nfalse,\nfalse],\n [{\n            'v': 46,\n            'f': \"46\",\n        },\nfalse,\nfalse,\nfalse,\nfalse,\nfalse,\nfalse,\nfalse,\nfalse,\nfalse,\nfalse,\nfalse,\nfalse,\nfalse,\nfalse,\nfalse],\n [{\n            'v': 47,\n            'f': \"47\",\n        },\nfalse,\nfalse,\nfalse,\nfalse,\nfalse,\nfalse,\nfalse,\nfalse,\nfalse,\nfalse,\nfalse,\nfalse,\nfalse,\nfalse,\nfalse],\n [{\n            'v': 48,\n            'f': \"48\",\n        },\nfalse,\nfalse,\nfalse,\nfalse,\nfalse,\nfalse,\nfalse,\nfalse,\nfalse,\nfalse,\nfalse,\nfalse,\nfalse,\nfalse,\nfalse],\n [{\n            'v': 49,\n            'f': \"49\",\n        },\nfalse,\nfalse,\nfalse,\nfalse,\nfalse,\nfalse,\nfalse,\nfalse,\nfalse,\nfalse,\nfalse,\nfalse,\nfalse,\nfalse,\nfalse],\n [{\n            'v': 50,\n            'f': \"50\",\n        },\nfalse,\nfalse,\nfalse,\nfalse,\nfalse,\nfalse,\nfalse,\nfalse,\nfalse,\nfalse,\nfalse,\nfalse,\nfalse,\nfalse,\nfalse],\n [{\n            'v': 51,\n            'f': \"51\",\n        },\nfalse,\nfalse,\nfalse,\nfalse,\nfalse,\nfalse,\nfalse,\nfalse,\nfalse,\nfalse,\nfalse,\nfalse,\nfalse,\nfalse,\nfalse],\n [{\n            'v': 52,\n            'f': \"52\",\n        },\nfalse,\nfalse,\nfalse,\nfalse,\nfalse,\nfalse,\nfalse,\nfalse,\nfalse,\nfalse,\nfalse,\nfalse,\nfalse,\nfalse,\nfalse],\n [{\n            'v': 53,\n            'f': \"53\",\n        },\nfalse,\nfalse,\nfalse,\nfalse,\nfalse,\nfalse,\nfalse,\nfalse,\nfalse,\nfalse,\nfalse,\nfalse,\nfalse,\nfalse,\nfalse],\n [{\n            'v': 54,\n            'f': \"54\",\n        },\nfalse,\nfalse,\nfalse,\nfalse,\nfalse,\nfalse,\nfalse,\nfalse,\nfalse,\nfalse,\nfalse,\nfalse,\nfalse,\nfalse,\nfalse],\n [{\n            'v': 55,\n            'f': \"55\",\n        },\nfalse,\nfalse,\nfalse,\nfalse,\nfalse,\nfalse,\nfalse,\nfalse,\nfalse,\nfalse,\nfalse,\nfalse,\nfalse,\nfalse,\nfalse],\n [{\n            'v': 56,\n            'f': \"56\",\n        },\nfalse,\nfalse,\nfalse,\nfalse,\nfalse,\nfalse,\nfalse,\nfalse,\nfalse,\nfalse,\nfalse,\nfalse,\nfalse,\nfalse,\nfalse],\n [{\n            'v': 57,\n            'f': \"57\",\n        },\nfalse,\nfalse,\nfalse,\nfalse,\nfalse,\nfalse,\nfalse,\nfalse,\nfalse,\nfalse,\nfalse,\nfalse,\nfalse,\nfalse,\nfalse],\n [{\n            'v': 58,\n            'f': \"58\",\n        },\nfalse,\nfalse,\nfalse,\nfalse,\nfalse,\nfalse,\nfalse,\nfalse,\nfalse,\nfalse,\nfalse,\nfalse,\nfalse,\nfalse,\nfalse],\n [{\n            'v': 59,\n            'f': \"59\",\n        },\nfalse,\nfalse,\nfalse,\nfalse,\nfalse,\nfalse,\nfalse,\nfalse,\nfalse,\nfalse,\nfalse,\nfalse,\nfalse,\nfalse,\nfalse],\n [{\n            'v': 60,\n            'f': \"60\",\n        },\nfalse,\nfalse,\nfalse,\nfalse,\nfalse,\nfalse,\nfalse,\nfalse,\nfalse,\nfalse,\nfalse,\nfalse,\nfalse,\nfalse,\nfalse],\n [{\n            'v': 61,\n            'f': \"61\",\n        },\nfalse,\nfalse,\nfalse,\nfalse,\nfalse,\nfalse,\nfalse,\nfalse,\nfalse,\nfalse,\nfalse,\nfalse,\nfalse,\nfalse,\nfalse],\n [{\n            'v': 62,\n            'f': \"62\",\n        },\nfalse,\nfalse,\nfalse,\nfalse,\nfalse,\nfalse,\nfalse,\nfalse,\nfalse,\nfalse,\nfalse,\nfalse,\nfalse,\nfalse,\nfalse],\n [{\n            'v': 63,\n            'f': \"63\",\n        },\nfalse,\nfalse,\nfalse,\nfalse,\nfalse,\nfalse,\nfalse,\nfalse,\nfalse,\nfalse,\nfalse,\nfalse,\nfalse,\nfalse,\nfalse],\n [{\n            'v': 64,\n            'f': \"64\",\n        },\nfalse,\nfalse,\nfalse,\nfalse,\nfalse,\nfalse,\nfalse,\nfalse,\nfalse,\nfalse,\nfalse,\nfalse,\nfalse,\nfalse,\nfalse],\n [{\n            'v': 65,\n            'f': \"65\",\n        },\nfalse,\nfalse,\nfalse,\nfalse,\nfalse,\nfalse,\nfalse,\nfalse,\nfalse,\nfalse,\nfalse,\nfalse,\nfalse,\nfalse,\nfalse],\n [{\n            'v': 66,\n            'f': \"66\",\n        },\nfalse,\nfalse,\nfalse,\nfalse,\nfalse,\nfalse,\nfalse,\nfalse,\nfalse,\nfalse,\nfalse,\nfalse,\nfalse,\nfalse,\nfalse],\n [{\n            'v': 67,\n            'f': \"67\",\n        },\nfalse,\nfalse,\nfalse,\nfalse,\nfalse,\nfalse,\nfalse,\nfalse,\nfalse,\nfalse,\nfalse,\nfalse,\nfalse,\nfalse,\nfalse],\n [{\n            'v': 68,\n            'f': \"68\",\n        },\nfalse,\nfalse,\nfalse,\nfalse,\nfalse,\nfalse,\nfalse,\nfalse,\nfalse,\nfalse,\nfalse,\nfalse,\nfalse,\nfalse,\nfalse],\n [{\n            'v': 69,\n            'f': \"69\",\n        },\nfalse,\nfalse,\nfalse,\nfalse,\nfalse,\nfalse,\nfalse,\nfalse,\nfalse,\nfalse,\nfalse,\nfalse,\nfalse,\nfalse,\nfalse],\n [{\n            'v': 70,\n            'f': \"70\",\n        },\nfalse,\nfalse,\nfalse,\nfalse,\nfalse,\nfalse,\nfalse,\nfalse,\nfalse,\nfalse,\nfalse,\nfalse,\nfalse,\nfalse,\nfalse],\n [{\n            'v': 71,\n            'f': \"71\",\n        },\nfalse,\nfalse,\nfalse,\nfalse,\nfalse,\nfalse,\nfalse,\nfalse,\nfalse,\nfalse,\nfalse,\nfalse,\nfalse,\nfalse,\nfalse],\n [{\n            'v': 72,\n            'f': \"72\",\n        },\nfalse,\nfalse,\nfalse,\nfalse,\nfalse,\nfalse,\nfalse,\nfalse,\nfalse,\nfalse,\nfalse,\nfalse,\nfalse,\nfalse,\nfalse],\n [{\n            'v': 73,\n            'f': \"73\",\n        },\nfalse,\nfalse,\nfalse,\nfalse,\nfalse,\nfalse,\nfalse,\nfalse,\nfalse,\nfalse,\nfalse,\nfalse,\nfalse,\nfalse,\nfalse],\n [{\n            'v': 74,\n            'f': \"74\",\n        },\nfalse,\nfalse,\nfalse,\nfalse,\nfalse,\nfalse,\nfalse,\nfalse,\nfalse,\nfalse,\nfalse,\nfalse,\nfalse,\nfalse,\nfalse],\n [{\n            'v': 75,\n            'f': \"75\",\n        },\nfalse,\nfalse,\nfalse,\nfalse,\nfalse,\nfalse,\nfalse,\nfalse,\nfalse,\nfalse,\nfalse,\nfalse,\nfalse,\nfalse,\nfalse],\n [{\n            'v': 76,\n            'f': \"76\",\n        },\nfalse,\nfalse,\nfalse,\nfalse,\nfalse,\nfalse,\nfalse,\nfalse,\nfalse,\nfalse,\nfalse,\nfalse,\nfalse,\nfalse,\nfalse],\n [{\n            'v': 77,\n            'f': \"77\",\n        },\nfalse,\nfalse,\nfalse,\nfalse,\nfalse,\nfalse,\nfalse,\nfalse,\nfalse,\nfalse,\nfalse,\nfalse,\nfalse,\nfalse,\nfalse],\n [{\n            'v': 78,\n            'f': \"78\",\n        },\nfalse,\nfalse,\nfalse,\nfalse,\nfalse,\nfalse,\nfalse,\nfalse,\nfalse,\nfalse,\nfalse,\nfalse,\nfalse,\nfalse,\nfalse],\n [{\n            'v': 79,\n            'f': \"79\",\n        },\nfalse,\nfalse,\nfalse,\nfalse,\nfalse,\nfalse,\nfalse,\nfalse,\nfalse,\nfalse,\nfalse,\nfalse,\nfalse,\nfalse,\nfalse],\n [{\n            'v': 80,\n            'f': \"80\",\n        },\nfalse,\nfalse,\nfalse,\nfalse,\nfalse,\nfalse,\nfalse,\nfalse,\nfalse,\nfalse,\nfalse,\nfalse,\nfalse,\nfalse,\nfalse],\n [{\n            'v': 81,\n            'f': \"81\",\n        },\nfalse,\nfalse,\nfalse,\nfalse,\nfalse,\nfalse,\nfalse,\nfalse,\nfalse,\nfalse,\nfalse,\nfalse,\nfalse,\nfalse,\nfalse],\n [{\n            'v': 82,\n            'f': \"82\",\n        },\nfalse,\nfalse,\nfalse,\nfalse,\nfalse,\nfalse,\nfalse,\nfalse,\nfalse,\nfalse,\nfalse,\nfalse,\nfalse,\nfalse,\nfalse],\n [{\n            'v': 83,\n            'f': \"83\",\n        },\nfalse,\nfalse,\nfalse,\nfalse,\nfalse,\nfalse,\nfalse,\nfalse,\nfalse,\nfalse,\nfalse,\nfalse,\nfalse,\nfalse,\nfalse],\n [{\n            'v': 84,\n            'f': \"84\",\n        },\nfalse,\nfalse,\nfalse,\nfalse,\nfalse,\nfalse,\nfalse,\nfalse,\nfalse,\nfalse,\nfalse,\nfalse,\nfalse,\nfalse,\nfalse],\n [{\n            'v': 85,\n            'f': \"85\",\n        },\nfalse,\nfalse,\nfalse,\nfalse,\nfalse,\nfalse,\nfalse,\nfalse,\nfalse,\nfalse,\nfalse,\nfalse,\nfalse,\nfalse,\nfalse],\n [{\n            'v': 86,\n            'f': \"86\",\n        },\nfalse,\nfalse,\nfalse,\nfalse,\nfalse,\nfalse,\nfalse,\nfalse,\nfalse,\nfalse,\nfalse,\nfalse,\nfalse,\nfalse,\nfalse],\n [{\n            'v': 87,\n            'f': \"87\",\n        },\nfalse,\nfalse,\nfalse,\nfalse,\nfalse,\nfalse,\nfalse,\nfalse,\nfalse,\nfalse,\nfalse,\nfalse,\nfalse,\nfalse,\nfalse],\n [{\n            'v': 88,\n            'f': \"88\",\n        },\nfalse,\nfalse,\nfalse,\nfalse,\nfalse,\nfalse,\nfalse,\nfalse,\nfalse,\nfalse,\nfalse,\nfalse,\nfalse,\nfalse,\nfalse],\n [{\n            'v': 89,\n            'f': \"89\",\n        },\nfalse,\nfalse,\nfalse,\nfalse,\nfalse,\nfalse,\nfalse,\nfalse,\nfalse,\nfalse,\nfalse,\nfalse,\nfalse,\nfalse,\nfalse],\n [{\n            'v': 90,\n            'f': \"90\",\n        },\nfalse,\nfalse,\nfalse,\nfalse,\nfalse,\nfalse,\nfalse,\nfalse,\nfalse,\nfalse,\nfalse,\nfalse,\nfalse,\nfalse,\nfalse],\n [{\n            'v': 91,\n            'f': \"91\",\n        },\nfalse,\nfalse,\nfalse,\nfalse,\nfalse,\nfalse,\nfalse,\nfalse,\nfalse,\nfalse,\nfalse,\nfalse,\nfalse,\nfalse,\nfalse],\n [{\n            'v': 92,\n            'f': \"92\",\n        },\nfalse,\nfalse,\nfalse,\nfalse,\nfalse,\nfalse,\nfalse,\nfalse,\nfalse,\nfalse,\nfalse,\nfalse,\nfalse,\nfalse,\nfalse],\n [{\n            'v': 93,\n            'f': \"93\",\n        },\nfalse,\nfalse,\nfalse,\nfalse,\nfalse,\nfalse,\nfalse,\nfalse,\nfalse,\nfalse,\nfalse,\nfalse,\nfalse,\nfalse,\nfalse],\n [{\n            'v': 94,\n            'f': \"94\",\n        },\nfalse,\nfalse,\nfalse,\nfalse,\nfalse,\nfalse,\nfalse,\nfalse,\nfalse,\nfalse,\nfalse,\nfalse,\nfalse,\nfalse,\nfalse],\n [{\n            'v': 95,\n            'f': \"95\",\n        },\nfalse,\nfalse,\nfalse,\nfalse,\nfalse,\nfalse,\nfalse,\nfalse,\nfalse,\nfalse,\nfalse,\nfalse,\nfalse,\nfalse,\nfalse],\n [{\n            'v': 96,\n            'f': \"96\",\n        },\nfalse,\nfalse,\nfalse,\nfalse,\nfalse,\nfalse,\nfalse,\nfalse,\nfalse,\nfalse,\nfalse,\nfalse,\nfalse,\nfalse,\nfalse],\n [{\n            'v': 97,\n            'f': \"97\",\n        },\nfalse,\nfalse,\nfalse,\nfalse,\nfalse,\nfalse,\nfalse,\nfalse,\nfalse,\nfalse,\nfalse,\nfalse,\nfalse,\nfalse,\nfalse],\n [{\n            'v': 98,\n            'f': \"98\",\n        },\nfalse,\nfalse,\nfalse,\nfalse,\nfalse,\nfalse,\nfalse,\nfalse,\nfalse,\nfalse,\nfalse,\nfalse,\nfalse,\nfalse,\nfalse],\n [{\n            'v': 99,\n            'f': \"99\",\n        },\nfalse,\nfalse,\nfalse,\nfalse,\nfalse,\nfalse,\nfalse,\nfalse,\nfalse,\nfalse,\nfalse,\nfalse,\nfalse,\nfalse,\nfalse],\n [{\n            'v': 100,\n            'f': \"100\",\n        },\nfalse,\nfalse,\nfalse,\nfalse,\nfalse,\nfalse,\nfalse,\nfalse,\nfalse,\nfalse,\nfalse,\nfalse,\nfalse,\nfalse,\nfalse],\n [{\n            'v': 101,\n            'f': \"101\",\n        },\nfalse,\nfalse,\nfalse,\nfalse,\nfalse,\nfalse,\nfalse,\nfalse,\nfalse,\nfalse,\nfalse,\nfalse,\nfalse,\nfalse,\nfalse],\n [{\n            'v': 102,\n            'f': \"102\",\n        },\nfalse,\nfalse,\nfalse,\nfalse,\nfalse,\nfalse,\nfalse,\nfalse,\nfalse,\nfalse,\nfalse,\nfalse,\nfalse,\nfalse,\nfalse],\n [{\n            'v': 103,\n            'f': \"103\",\n        },\nfalse,\nfalse,\nfalse,\nfalse,\nfalse,\nfalse,\nfalse,\nfalse,\nfalse,\nfalse,\nfalse,\nfalse,\nfalse,\nfalse,\nfalse],\n [{\n            'v': 104,\n            'f': \"104\",\n        },\nfalse,\nfalse,\nfalse,\nfalse,\nfalse,\nfalse,\nfalse,\nfalse,\nfalse,\nfalse,\nfalse,\nfalse,\nfalse,\nfalse,\nfalse],\n [{\n            'v': 105,\n            'f': \"105\",\n        },\nfalse,\nfalse,\nfalse,\nfalse,\nfalse,\nfalse,\nfalse,\nfalse,\nfalse,\nfalse,\nfalse,\nfalse,\nfalse,\nfalse,\nfalse],\n [{\n            'v': 106,\n            'f': \"106\",\n        },\nfalse,\nfalse,\nfalse,\nfalse,\nfalse,\nfalse,\nfalse,\nfalse,\nfalse,\nfalse,\nfalse,\nfalse,\nfalse,\nfalse,\nfalse],\n [{\n            'v': 107,\n            'f': \"107\",\n        },\nfalse,\nfalse,\nfalse,\nfalse,\nfalse,\nfalse,\nfalse,\nfalse,\nfalse,\nfalse,\nfalse,\nfalse,\nfalse,\nfalse,\nfalse],\n [{\n            'v': 108,\n            'f': \"108\",\n        },\nfalse,\nfalse,\nfalse,\nfalse,\nfalse,\nfalse,\nfalse,\nfalse,\nfalse,\nfalse,\nfalse,\nfalse,\nfalse,\nfalse,\nfalse],\n [{\n            'v': 109,\n            'f': \"109\",\n        },\nfalse,\nfalse,\nfalse,\nfalse,\nfalse,\nfalse,\nfalse,\nfalse,\nfalse,\nfalse,\nfalse,\nfalse,\nfalse,\nfalse,\nfalse],\n [{\n            'v': 110,\n            'f': \"110\",\n        },\nfalse,\nfalse,\nfalse,\nfalse,\nfalse,\nfalse,\nfalse,\nfalse,\nfalse,\nfalse,\nfalse,\nfalse,\nfalse,\nfalse,\nfalse],\n [{\n            'v': 111,\n            'f': \"111\",\n        },\nfalse,\nfalse,\nfalse,\nfalse,\nfalse,\nfalse,\nfalse,\nfalse,\nfalse,\nfalse,\nfalse,\nfalse,\nfalse,\nfalse,\nfalse],\n [{\n            'v': 112,\n            'f': \"112\",\n        },\nfalse,\nfalse,\nfalse,\nfalse,\nfalse,\nfalse,\nfalse,\nfalse,\nfalse,\nfalse,\nfalse,\nfalse,\nfalse,\nfalse,\nfalse],\n [{\n            'v': 113,\n            'f': \"113\",\n        },\nfalse,\nfalse,\nfalse,\nfalse,\nfalse,\nfalse,\nfalse,\nfalse,\nfalse,\nfalse,\nfalse,\nfalse,\nfalse,\nfalse,\nfalse],\n [{\n            'v': 114,\n            'f': \"114\",\n        },\nfalse,\nfalse,\nfalse,\nfalse,\nfalse,\nfalse,\nfalse,\nfalse,\nfalse,\nfalse,\nfalse,\nfalse,\nfalse,\nfalse,\nfalse],\n [{\n            'v': 115,\n            'f': \"115\",\n        },\nfalse,\nfalse,\nfalse,\nfalse,\nfalse,\nfalse,\nfalse,\nfalse,\nfalse,\nfalse,\nfalse,\nfalse,\nfalse,\nfalse,\nfalse],\n [{\n            'v': 116,\n            'f': \"116\",\n        },\nfalse,\nfalse,\nfalse,\nfalse,\nfalse,\nfalse,\nfalse,\nfalse,\nfalse,\nfalse,\nfalse,\nfalse,\nfalse,\nfalse,\nfalse],\n [{\n            'v': 117,\n            'f': \"117\",\n        },\nfalse,\nfalse,\nfalse,\nfalse,\nfalse,\nfalse,\nfalse,\nfalse,\nfalse,\nfalse,\nfalse,\nfalse,\nfalse,\nfalse,\nfalse],\n [{\n            'v': 118,\n            'f': \"118\",\n        },\nfalse,\nfalse,\nfalse,\nfalse,\nfalse,\nfalse,\nfalse,\nfalse,\nfalse,\nfalse,\nfalse,\nfalse,\nfalse,\nfalse,\nfalse],\n [{\n            'v': 119,\n            'f': \"119\",\n        },\nfalse,\nfalse,\nfalse,\nfalse,\nfalse,\nfalse,\nfalse,\nfalse,\nfalse,\nfalse,\nfalse,\nfalse,\nfalse,\nfalse,\nfalse],\n [{\n            'v': 120,\n            'f': \"120\",\n        },\nfalse,\nfalse,\nfalse,\nfalse,\nfalse,\nfalse,\nfalse,\nfalse,\nfalse,\nfalse,\nfalse,\nfalse,\nfalse,\nfalse,\nfalse],\n [{\n            'v': 121,\n            'f': \"121\",\n        },\nfalse,\nfalse,\nfalse,\nfalse,\nfalse,\nfalse,\nfalse,\nfalse,\nfalse,\nfalse,\nfalse,\nfalse,\nfalse,\nfalse,\nfalse],\n [{\n            'v': 122,\n            'f': \"122\",\n        },\nfalse,\nfalse,\nfalse,\nfalse,\nfalse,\nfalse,\nfalse,\nfalse,\nfalse,\nfalse,\nfalse,\nfalse,\nfalse,\nfalse,\nfalse],\n [{\n            'v': 123,\n            'f': \"123\",\n        },\nfalse,\nfalse,\nfalse,\nfalse,\nfalse,\nfalse,\nfalse,\nfalse,\nfalse,\nfalse,\nfalse,\nfalse,\nfalse,\nfalse,\nfalse],\n [{\n            'v': 124,\n            'f': \"124\",\n        },\nfalse,\nfalse,\nfalse,\nfalse,\nfalse,\nfalse,\nfalse,\nfalse,\nfalse,\nfalse,\nfalse,\nfalse,\nfalse,\nfalse,\nfalse],\n [{\n            'v': 125,\n            'f': \"125\",\n        },\nfalse,\nfalse,\nfalse,\nfalse,\nfalse,\nfalse,\nfalse,\nfalse,\nfalse,\nfalse,\nfalse,\nfalse,\nfalse,\nfalse,\nfalse],\n [{\n            'v': 126,\n            'f': \"126\",\n        },\nfalse,\nfalse,\nfalse,\nfalse,\nfalse,\nfalse,\nfalse,\nfalse,\nfalse,\nfalse,\nfalse,\nfalse,\nfalse,\nfalse,\nfalse],\n [{\n            'v': 127,\n            'f': \"127\",\n        },\nfalse,\nfalse,\nfalse,\nfalse,\nfalse,\nfalse,\nfalse,\nfalse,\nfalse,\nfalse,\nfalse,\nfalse,\nfalse,\nfalse,\nfalse],\n [{\n            'v': 128,\n            'f': \"128\",\n        },\nfalse,\nfalse,\nfalse,\nfalse,\nfalse,\nfalse,\nfalse,\nfalse,\nfalse,\nfalse,\nfalse,\nfalse,\nfalse,\nfalse,\nfalse],\n [{\n            'v': 129,\n            'f': \"129\",\n        },\nfalse,\nfalse,\nfalse,\nfalse,\nfalse,\nfalse,\nfalse,\nfalse,\nfalse,\nfalse,\nfalse,\nfalse,\nfalse,\nfalse,\nfalse],\n [{\n            'v': 130,\n            'f': \"130\",\n        },\nfalse,\nfalse,\nfalse,\nfalse,\nfalse,\nfalse,\nfalse,\nfalse,\nfalse,\nfalse,\nfalse,\nfalse,\nfalse,\nfalse,\nfalse],\n [{\n            'v': 131,\n            'f': \"131\",\n        },\nfalse,\nfalse,\nfalse,\nfalse,\nfalse,\nfalse,\nfalse,\nfalse,\nfalse,\nfalse,\ntrue,\nfalse,\nfalse,\nfalse,\nfalse],\n [{\n            'v': 132,\n            'f': \"132\",\n        },\nfalse,\nfalse,\nfalse,\nfalse,\nfalse,\nfalse,\nfalse,\nfalse,\nfalse,\nfalse,\nfalse,\nfalse,\nfalse,\nfalse,\nfalse],\n [{\n            'v': 133,\n            'f': \"133\",\n        },\nfalse,\nfalse,\nfalse,\nfalse,\nfalse,\nfalse,\nfalse,\nfalse,\nfalse,\nfalse,\nfalse,\nfalse,\nfalse,\nfalse,\nfalse],\n [{\n            'v': 134,\n            'f': \"134\",\n        },\nfalse,\nfalse,\nfalse,\nfalse,\nfalse,\nfalse,\nfalse,\nfalse,\nfalse,\nfalse,\nfalse,\nfalse,\nfalse,\nfalse,\nfalse],\n [{\n            'v': 135,\n            'f': \"135\",\n        },\nfalse,\nfalse,\nfalse,\nfalse,\nfalse,\nfalse,\nfalse,\nfalse,\nfalse,\nfalse,\nfalse,\nfalse,\nfalse,\nfalse,\nfalse],\n [{\n            'v': 136,\n            'f': \"136\",\n        },\nfalse,\nfalse,\nfalse,\nfalse,\nfalse,\nfalse,\nfalse,\nfalse,\nfalse,\nfalse,\nfalse,\nfalse,\nfalse,\nfalse,\nfalse],\n [{\n            'v': 137,\n            'f': \"137\",\n        },\nfalse,\nfalse,\nfalse,\nfalse,\nfalse,\nfalse,\nfalse,\nfalse,\nfalse,\nfalse,\nfalse,\nfalse,\nfalse,\nfalse,\nfalse],\n [{\n            'v': 138,\n            'f': \"138\",\n        },\nfalse,\nfalse,\nfalse,\nfalse,\nfalse,\nfalse,\nfalse,\nfalse,\nfalse,\nfalse,\nfalse,\nfalse,\nfalse,\nfalse,\nfalse],\n [{\n            'v': 139,\n            'f': \"139\",\n        },\nfalse,\nfalse,\nfalse,\nfalse,\nfalse,\nfalse,\nfalse,\nfalse,\nfalse,\nfalse,\nfalse,\nfalse,\nfalse,\nfalse,\nfalse],\n [{\n            'v': 140,\n            'f': \"140\",\n        },\nfalse,\nfalse,\nfalse,\nfalse,\nfalse,\nfalse,\nfalse,\nfalse,\nfalse,\nfalse,\nfalse,\nfalse,\nfalse,\nfalse,\nfalse],\n [{\n            'v': 141,\n            'f': \"141\",\n        },\nfalse,\nfalse,\nfalse,\nfalse,\nfalse,\nfalse,\nfalse,\nfalse,\nfalse,\nfalse,\nfalse,\nfalse,\nfalse,\nfalse,\nfalse],\n [{\n            'v': 142,\n            'f': \"142\",\n        },\nfalse,\nfalse,\nfalse,\nfalse,\nfalse,\nfalse,\nfalse,\nfalse,\nfalse,\nfalse,\nfalse,\nfalse,\nfalse,\nfalse,\nfalse],\n [{\n            'v': 143,\n            'f': \"143\",\n        },\nfalse,\nfalse,\nfalse,\nfalse,\nfalse,\nfalse,\nfalse,\nfalse,\nfalse,\nfalse,\nfalse,\nfalse,\nfalse,\nfalse,\nfalse],\n [{\n            'v': 144,\n            'f': \"144\",\n        },\nfalse,\nfalse,\nfalse,\nfalse,\nfalse,\nfalse,\nfalse,\nfalse,\nfalse,\nfalse,\nfalse,\nfalse,\nfalse,\nfalse,\nfalse],\n [{\n            'v': 145,\n            'f': \"145\",\n        },\nfalse,\nfalse,\nfalse,\nfalse,\nfalse,\nfalse,\nfalse,\nfalse,\nfalse,\nfalse,\nfalse,\nfalse,\nfalse,\nfalse,\nfalse]],\n        columns: [[\"number\", \"index\"], [\"string\", \"Id\"], [\"string\", \"season\"], [\"string\", \"date\"], [\"string\", \"team1\"], [\"string\", \"team2\"], [\"string\", \"toss_winner\"], [\"string\", \"toss_decision\"], [\"string\", \"winner\"], [\"string\", \"win_by_wickets\"], [\"string\", \"win_by_runs\"], [\"string\", \"man_of_match\"], [\"string\", \"venue\"], [\"string\", \"umpire1\"], [\"string\", \"umpire2\"], [\"string\", \"result\"]],\n        columnOptions: [{\"width\": \"1px\", \"className\": \"index_column\"}],\n        rowsPerPage: 25,\n        helpUrl: \"https://colab.research.google.com/notebooks/data_table.ipynb\",\n        suppressOutputScrolling: true,\n        minimumWidth: undefined,\n      });\n    ",
            "text/html": [
              "<div>\n",
              "<style scoped>\n",
              "    .dataframe tbody tr th:only-of-type {\n",
              "        vertical-align: middle;\n",
              "    }\n",
              "\n",
              "    .dataframe tbody tr th {\n",
              "        vertical-align: top;\n",
              "    }\n",
              "\n",
              "    .dataframe thead th {\n",
              "        text-align: right;\n",
              "    }\n",
              "</style>\n",
              "<table border=\"1\" class=\"dataframe\">\n",
              "  <thead>\n",
              "    <tr style=\"text-align: right;\">\n",
              "      <th></th>\n",
              "      <th>Id</th>\n",
              "      <th>season</th>\n",
              "      <th>date</th>\n",
              "      <th>team1</th>\n",
              "      <th>team2</th>\n",
              "      <th>toss_winner</th>\n",
              "      <th>toss_decision</th>\n",
              "      <th>winner</th>\n",
              "      <th>win_by_wickets</th>\n",
              "      <th>win_by_runs</th>\n",
              "      <th>man_of_match</th>\n",
              "      <th>venue</th>\n",
              "      <th>umpire1</th>\n",
              "      <th>umpire2</th>\n",
              "      <th>result</th>\n",
              "    </tr>\n",
              "  </thead>\n",
              "  <tbody>\n",
              "    <tr>\n",
              "      <th>0</th>\n",
              "      <td>False</td>\n",
              "      <td>False</td>\n",
              "      <td>False</td>\n",
              "      <td>False</td>\n",
              "      <td>False</td>\n",
              "      <td>False</td>\n",
              "      <td>False</td>\n",
              "      <td>False</td>\n",
              "      <td>False</td>\n",
              "      <td>False</td>\n",
              "      <td>False</td>\n",
              "      <td>False</td>\n",
              "      <td>False</td>\n",
              "      <td>False</td>\n",
              "      <td>False</td>\n",
              "    </tr>\n",
              "    <tr>\n",
              "      <th>1</th>\n",
              "      <td>False</td>\n",
              "      <td>False</td>\n",
              "      <td>False</td>\n",
              "      <td>False</td>\n",
              "      <td>False</td>\n",
              "      <td>False</td>\n",
              "      <td>False</td>\n",
              "      <td>False</td>\n",
              "      <td>False</td>\n",
              "      <td>False</td>\n",
              "      <td>False</td>\n",
              "      <td>False</td>\n",
              "      <td>False</td>\n",
              "      <td>False</td>\n",
              "      <td>False</td>\n",
              "    </tr>\n",
              "    <tr>\n",
              "      <th>2</th>\n",
              "      <td>False</td>\n",
              "      <td>False</td>\n",
              "      <td>False</td>\n",
              "      <td>False</td>\n",
              "      <td>False</td>\n",
              "      <td>False</td>\n",
              "      <td>False</td>\n",
              "      <td>False</td>\n",
              "      <td>False</td>\n",
              "      <td>False</td>\n",
              "      <td>False</td>\n",
              "      <td>False</td>\n",
              "      <td>False</td>\n",
              "      <td>False</td>\n",
              "      <td>False</td>\n",
              "    </tr>\n",
              "    <tr>\n",
              "      <th>3</th>\n",
              "      <td>False</td>\n",
              "      <td>False</td>\n",
              "      <td>False</td>\n",
              "      <td>False</td>\n",
              "      <td>False</td>\n",
              "      <td>False</td>\n",
              "      <td>False</td>\n",
              "      <td>False</td>\n",
              "      <td>False</td>\n",
              "      <td>False</td>\n",
              "      <td>False</td>\n",
              "      <td>False</td>\n",
              "      <td>False</td>\n",
              "      <td>False</td>\n",
              "      <td>False</td>\n",
              "    </tr>\n",
              "    <tr>\n",
              "      <th>4</th>\n",
              "      <td>False</td>\n",
              "      <td>False</td>\n",
              "      <td>False</td>\n",
              "      <td>False</td>\n",
              "      <td>False</td>\n",
              "      <td>False</td>\n",
              "      <td>False</td>\n",
              "      <td>False</td>\n",
              "      <td>False</td>\n",
              "      <td>False</td>\n",
              "      <td>False</td>\n",
              "      <td>False</td>\n",
              "      <td>False</td>\n",
              "      <td>False</td>\n",
              "      <td>False</td>\n",
              "    </tr>\n",
              "    <tr>\n",
              "      <th>...</th>\n",
              "      <td>...</td>\n",
              "      <td>...</td>\n",
              "      <td>...</td>\n",
              "      <td>...</td>\n",
              "      <td>...</td>\n",
              "      <td>...</td>\n",
              "      <td>...</td>\n",
              "      <td>...</td>\n",
              "      <td>...</td>\n",
              "      <td>...</td>\n",
              "      <td>...</td>\n",
              "      <td>...</td>\n",
              "      <td>...</td>\n",
              "      <td>...</td>\n",
              "      <td>...</td>\n",
              "    </tr>\n",
              "    <tr>\n",
              "      <th>141</th>\n",
              "      <td>False</td>\n",
              "      <td>False</td>\n",
              "      <td>False</td>\n",
              "      <td>False</td>\n",
              "      <td>False</td>\n",
              "      <td>False</td>\n",
              "      <td>False</td>\n",
              "      <td>False</td>\n",
              "      <td>False</td>\n",
              "      <td>False</td>\n",
              "      <td>False</td>\n",
              "      <td>False</td>\n",
              "      <td>False</td>\n",
              "      <td>False</td>\n",
              "      <td>False</td>\n",
              "    </tr>\n",
              "    <tr>\n",
              "      <th>142</th>\n",
              "      <td>False</td>\n",
              "      <td>False</td>\n",
              "      <td>False</td>\n",
              "      <td>False</td>\n",
              "      <td>False</td>\n",
              "      <td>False</td>\n",
              "      <td>False</td>\n",
              "      <td>False</td>\n",
              "      <td>False</td>\n",
              "      <td>False</td>\n",
              "      <td>False</td>\n",
              "      <td>False</td>\n",
              "      <td>False</td>\n",
              "      <td>False</td>\n",
              "      <td>False</td>\n",
              "    </tr>\n",
              "    <tr>\n",
              "      <th>143</th>\n",
              "      <td>False</td>\n",
              "      <td>False</td>\n",
              "      <td>False</td>\n",
              "      <td>False</td>\n",
              "      <td>False</td>\n",
              "      <td>False</td>\n",
              "      <td>False</td>\n",
              "      <td>False</td>\n",
              "      <td>False</td>\n",
              "      <td>False</td>\n",
              "      <td>False</td>\n",
              "      <td>False</td>\n",
              "      <td>False</td>\n",
              "      <td>False</td>\n",
              "      <td>False</td>\n",
              "    </tr>\n",
              "    <tr>\n",
              "      <th>144</th>\n",
              "      <td>False</td>\n",
              "      <td>False</td>\n",
              "      <td>False</td>\n",
              "      <td>False</td>\n",
              "      <td>False</td>\n",
              "      <td>False</td>\n",
              "      <td>False</td>\n",
              "      <td>False</td>\n",
              "      <td>False</td>\n",
              "      <td>False</td>\n",
              "      <td>False</td>\n",
              "      <td>False</td>\n",
              "      <td>False</td>\n",
              "      <td>False</td>\n",
              "      <td>False</td>\n",
              "    </tr>\n",
              "    <tr>\n",
              "      <th>145</th>\n",
              "      <td>False</td>\n",
              "      <td>False</td>\n",
              "      <td>False</td>\n",
              "      <td>False</td>\n",
              "      <td>False</td>\n",
              "      <td>False</td>\n",
              "      <td>False</td>\n",
              "      <td>False</td>\n",
              "      <td>False</td>\n",
              "      <td>False</td>\n",
              "      <td>False</td>\n",
              "      <td>False</td>\n",
              "      <td>False</td>\n",
              "      <td>False</td>\n",
              "      <td>False</td>\n",
              "    </tr>\n",
              "  </tbody>\n",
              "</table>\n",
              "<p>146 rows × 15 columns</p>\n",
              "</div>"
            ],
            "text/plain": [
              "        Id  season   date  team1  ...  venue  umpire1  umpire2  result\n",
              "0    False   False  False  False  ...  False    False    False   False\n",
              "1    False   False  False  False  ...  False    False    False   False\n",
              "2    False   False  False  False  ...  False    False    False   False\n",
              "3    False   False  False  False  ...  False    False    False   False\n",
              "4    False   False  False  False  ...  False    False    False   False\n",
              "..     ...     ...    ...    ...  ...    ...      ...      ...     ...\n",
              "141  False   False  False  False  ...  False    False    False   False\n",
              "142  False   False  False  False  ...  False    False    False   False\n",
              "143  False   False  False  False  ...  False    False    False   False\n",
              "144  False   False  False  False  ...  False    False    False   False\n",
              "145  False   False  False  False  ...  False    False    False   False\n",
              "\n",
              "[146 rows x 15 columns]"
            ]
          },
          "metadata": {
            "tags": []
          },
          "execution_count": 216
        }
      ]
    },
    {
      "cell_type": "markdown",
      "metadata": {
        "id": "Q8kY1zpVp_0J"
      },
      "source": [
        "**Describe Columns**"
      ]
    },
    {
      "cell_type": "code",
      "metadata": {
        "id": "XMsfBlFUqD8P",
        "colab": {
          "base_uri": "https://localhost:8080/"
        },
        "outputId": "c6452fbc-a498-44df-d9f5-f79912b4ef84"
      },
      "source": [
        "#columns description in matches datatset\r\n",
        "pslmatches.columns\r\n"
      ],
      "execution_count": 217,
      "outputs": [
        {
          "output_type": "execute_result",
          "data": {
            "text/plain": [
              "Index(['Id', 'season', 'date', 'team1', 'team2', 'toss_winner',\n",
              "       'toss_decision', 'winner', 'win_by_wickets', 'win_by_runs',\n",
              "       'man_of_match', 'venue', 'umpire1', 'umpire2', 'result'],\n",
              "      dtype='object')"
            ]
          },
          "metadata": {
            "tags": []
          },
          "execution_count": 217
        }
      ]
    },
    {
      "cell_type": "code",
      "metadata": {
        "colab": {
          "base_uri": "https://localhost:8080/"
        },
        "id": "YkVGt1tPqb-O",
        "outputId": "df652a55-8d08-40f1-e415-ddef890bdb1a"
      },
      "source": [
        "#columns description in ball by ball datatset\r\n",
        "pslball.columns"
      ],
      "execution_count": 218,
      "outputs": [
        {
          "output_type": "execute_result",
          "data": {
            "text/plain": [
              "Index(['match_id', 'season', 'start_date', 'venue', 'innings', 'ball',\n",
              "       'batting_team', 'bowling_team', 'striker', 'non_striker', 'bowler',\n",
              "       'runs_off_bat', 'extras', 'wides', 'noballs', 'byes', 'legbyes',\n",
              "       'penalty', 'wicket_type', 'player_dismissed', 'total_run'],\n",
              "      dtype='object')"
            ]
          },
          "metadata": {
            "tags": []
          },
          "execution_count": 218
        }
      ]
    },
    {
      "cell_type": "markdown",
      "metadata": {
        "id": "Gul6s8iSrK6g"
      },
      "source": [
        "**Retrieve index description**"
      ]
    },
    {
      "cell_type": "code",
      "metadata": {
        "colab": {
          "base_uri": "https://localhost:8080/"
        },
        "id": "13UO9uhzrNOm",
        "outputId": "cd2713ea-1ae3-415f-8f9f-b39041221d73"
      },
      "source": [
        "#index for delivery dataset\r\n",
        "pslball.index"
      ],
      "execution_count": 252,
      "outputs": [
        {
          "output_type": "execute_result",
          "data": {
            "text/plain": [
              "RangeIndex(start=0, stop=33786, step=1)"
            ]
          },
          "metadata": {
            "tags": []
          },
          "execution_count": 252
        }
      ]
    },
    {
      "cell_type": "code",
      "metadata": {
        "id": "WajH4YRZr4LJ",
        "colab": {
          "base_uri": "https://localhost:8080/"
        },
        "outputId": "cf9186c6-ac03-4740-c9d2-fdf72a6bdd03"
      },
      "source": [
        "#index for match dataset\r\n",
        "pslmatches.index"
      ],
      "execution_count": 220,
      "outputs": [
        {
          "output_type": "execute_result",
          "data": {
            "text/plain": [
              "RangeIndex(start=0, stop=146, step=1)"
            ]
          },
          "metadata": {
            "tags": []
          },
          "execution_count": 220
        }
      ]
    },
    {
      "cell_type": "markdown",
      "metadata": {
        "id": "ZzzOlxKesd-X"
      },
      "source": [
        "**Analysis on each column**"
      ]
    },
    {
      "cell_type": "code",
      "metadata": {
        "id": "Qjli5SD3sib7",
        "colab": {
          "base_uri": "https://localhost:8080/"
        },
        "outputId": "cea334d8-e48c-46b7-d7f9-51a5bca450d1"
      },
      "source": [
        "#info of delivery dataset columns\r\n",
        "pslball.info()"
      ],
      "execution_count": 221,
      "outputs": [
        {
          "output_type": "stream",
          "text": [
            "<class 'pandas.core.frame.DataFrame'>\n",
            "RangeIndex: 33786 entries, 0 to 33785\n",
            "Data columns (total 21 columns):\n",
            " #   Column            Non-Null Count  Dtype  \n",
            "---  ------            --------------  -----  \n",
            " 0   match_id          33786 non-null  int64  \n",
            " 1   season            33786 non-null  int64  \n",
            " 2   start_date        33786 non-null  object \n",
            " 3   venue             33786 non-null  object \n",
            " 4   innings           33786 non-null  int64  \n",
            " 5   ball              33786 non-null  float64\n",
            " 6   batting_team      33786 non-null  object \n",
            " 7   bowling_team      33786 non-null  object \n",
            " 8   striker           33786 non-null  object \n",
            " 9   non_striker       33786 non-null  object \n",
            " 10  bowler            33786 non-null  object \n",
            " 11  runs_off_bat      33786 non-null  int64  \n",
            " 12  extras            33786 non-null  int64  \n",
            " 13  wides             905 non-null    float64\n",
            " 14  noballs           126 non-null    float64\n",
            " 15  byes              91 non-null     float64\n",
            " 16  legbyes           574 non-null    float64\n",
            " 17  penalty           1 non-null      float64\n",
            " 18  wicket_type       1810 non-null   object \n",
            " 19  player_dismissed  1810 non-null   object \n",
            " 20  total_run         33786 non-null  int64  \n",
            "dtypes: float64(6), int64(6), object(9)\n",
            "memory usage: 5.4+ MB\n"
          ],
          "name": "stdout"
        }
      ]
    },
    {
      "cell_type": "code",
      "metadata": {
        "id": "0-QvdAsystCP"
      },
      "source": [
        "#info of match dataset columns\r\n",
        "pslmatches.info()"
      ],
      "execution_count": null,
      "outputs": []
    },
    {
      "cell_type": "markdown",
      "metadata": {
        "id": "F5tS5Aprtrm3"
      },
      "source": [
        "# ***Statistical analysis***"
      ]
    },
    {
      "cell_type": "markdown",
      "metadata": {
        "id": "IegnG3gsDE00"
      },
      "source": [
        "**Names of teams**"
      ]
    },
    {
      "cell_type": "code",
      "metadata": {
        "id": "roLg1uSDDIOh",
        "colab": {
          "base_uri": "https://localhost:8080/",
          "height": 215
        },
        "outputId": "c39e48c2-d640-416f-d8ce-1d189de67f40"
      },
      "source": [
        "names=pslmatches['team1'].unique()\r\n",
        "names=pd.DataFrame(names)\r\n",
        "names"
      ],
      "execution_count": 223,
      "outputs": [
        {
          "output_type": "execute_result",
          "data": {
            "application/vnd.google.colaboratory.module+javascript": "\n      import \"https://ssl.gstatic.com/colaboratory/data_table/a6224c040fa35dcf/data_table.js\";\n\n      window.createDataTable({\n        data: [[{\n            'v': 0,\n            'f': \"0\",\n        },\n\"Islamabad United\"],\n [{\n            'v': 1,\n            'f': \"1\",\n        },\n\"Peshawar Zalmi\"],\n [{\n            'v': 2,\n            'f': \"2\",\n        },\n\"Lahore Qalandars\"],\n [{\n            'v': 3,\n            'f': \"3\",\n        },\n\"Karachi Kings\"],\n [{\n            'v': 4,\n            'f': \"4\",\n        },\n\"Quetta Gladiators\"],\n [{\n            'v': 5,\n            'f': \"5\",\n        },\n\"Multan Sultans\"]],\n        columns: [[\"number\", \"index\"], [\"string\", \"0\"]],\n        columnOptions: [{\"width\": \"1px\", \"className\": \"index_column\"}],\n        rowsPerPage: 25,\n        helpUrl: \"https://colab.research.google.com/notebooks/data_table.ipynb\",\n        suppressOutputScrolling: true,\n        minimumWidth: undefined,\n      });\n    ",
            "text/html": [
              "<div>\n",
              "<style scoped>\n",
              "    .dataframe tbody tr th:only-of-type {\n",
              "        vertical-align: middle;\n",
              "    }\n",
              "\n",
              "    .dataframe tbody tr th {\n",
              "        vertical-align: top;\n",
              "    }\n",
              "\n",
              "    .dataframe thead th {\n",
              "        text-align: right;\n",
              "    }\n",
              "</style>\n",
              "<table border=\"1\" class=\"dataframe\">\n",
              "  <thead>\n",
              "    <tr style=\"text-align: right;\">\n",
              "      <th></th>\n",
              "      <th>0</th>\n",
              "    </tr>\n",
              "  </thead>\n",
              "  <tbody>\n",
              "    <tr>\n",
              "      <th>0</th>\n",
              "      <td>Islamabad United</td>\n",
              "    </tr>\n",
              "    <tr>\n",
              "      <th>1</th>\n",
              "      <td>Peshawar Zalmi</td>\n",
              "    </tr>\n",
              "    <tr>\n",
              "      <th>2</th>\n",
              "      <td>Lahore Qalandars</td>\n",
              "    </tr>\n",
              "    <tr>\n",
              "      <th>3</th>\n",
              "      <td>Karachi Kings</td>\n",
              "    </tr>\n",
              "    <tr>\n",
              "      <th>4</th>\n",
              "      <td>Quetta Gladiators</td>\n",
              "    </tr>\n",
              "    <tr>\n",
              "      <th>5</th>\n",
              "      <td>Multan Sultans</td>\n",
              "    </tr>\n",
              "  </tbody>\n",
              "</table>\n",
              "</div>"
            ],
            "text/plain": [
              "                   0\n",
              "0   Islamabad United\n",
              "1     Peshawar Zalmi\n",
              "2   Lahore Qalandars\n",
              "3      Karachi Kings\n",
              "4  Quetta Gladiators\n",
              "5     Multan Sultans"
            ]
          },
          "metadata": {
            "tags": []
          },
          "execution_count": 223
        }
      ]
    },
    {
      "cell_type": "markdown",
      "metadata": {
        "id": "ngfjLiR_89Nn"
      },
      "source": [
        "**Total matches**"
      ]
    },
    {
      "cell_type": "code",
      "metadata": {
        "id": "Dva1KksVt0Zv",
        "colab": {
          "base_uri": "https://localhost:8080/"
        },
        "outputId": "d9698ab6-fe41-457b-8e3b-55c7ab7b6394"
      },
      "source": [
        "#Total match played in psl \r\n",
        "pslmatches['Id'].max()"
      ],
      "execution_count": 224,
      "outputs": [
        {
          "output_type": "execute_result",
          "data": {
            "text/plain": [
              "146"
            ]
          },
          "metadata": {
            "tags": []
          },
          "execution_count": 224
        }
      ]
    },
    {
      "cell_type": "markdown",
      "metadata": {
        "id": "lJTI67HFAoU4"
      },
      "source": [
        "**Total season played**"
      ]
    },
    {
      "cell_type": "code",
      "metadata": {
        "colab": {
          "base_uri": "https://localhost:8080/"
        },
        "id": "I33LLILfAsvb",
        "outputId": "966411a9-b6f5-4e87-dcef-2e4636b0665f"
      },
      "source": [
        "pslmatches['season'].unique()         #Season years name\r\n",
        "len(pslmatches['season'].unique())\r\n"
      ],
      "execution_count": 253,
      "outputs": [
        {
          "output_type": "execute_result",
          "data": {
            "text/plain": [
              "5"
            ]
          },
          "metadata": {
            "tags": []
          },
          "execution_count": 253
        }
      ]
    },
    {
      "cell_type": "markdown",
      "metadata": {
        "id": "kV3rDOtBC7we"
      },
      "source": [
        "**Match detail won by maximum runs**"
      ]
    },
    {
      "cell_type": "code",
      "metadata": {
        "id": "1FtFCS8vF5PK",
        "colab": {
          "base_uri": "https://localhost:8080/"
        },
        "outputId": "839793f9-5614-487d-9452-0664e9e70da3"
      },
      "source": [
        "pslmatches.iloc[pslmatches['win_by_runs'].idxmax()]"
      ],
      "execution_count": 226,
      "outputs": [
        {
          "output_type": "execute_result",
          "data": {
            "text/plain": [
              "Id                             130\n",
              "season                        2020\n",
              "date                      3/4/2020\n",
              "team1             Lahore Qalandars\n",
              "team2             Islamabad United\n",
              "toss_winner       Lahore Qalandars\n",
              "toss_decision                field\n",
              "winner            Islamabad United\n",
              "win_by_wickets                   0\n",
              "win_by_runs                     71\n",
              "man_of_match               C Munro\n",
              "venue              Gaddafi Stadium\n",
              "umpire1                Asif Yaqoob\n",
              "umpire2                Shozab Raza\n",
              "result                      normal\n",
              "Name: 129, dtype: object"
            ]
          },
          "metadata": {
            "tags": []
          },
          "execution_count": 226
        }
      ]
    },
    {
      "cell_type": "markdown",
      "metadata": {
        "id": "TG310JjhGlEQ"
      },
      "source": [
        "**Match detail won by maximum wickets**"
      ]
    },
    {
      "cell_type": "code",
      "metadata": {
        "id": "VdPo_ShIGsgM",
        "colab": {
          "base_uri": "https://localhost:8080/"
        },
        "outputId": "ae309600-de74-4185-e15a-5097db8fb57a"
      },
      "source": [
        "pslmatches.iloc[pslmatches['win_by_wickets'].idxmax()]"
      ],
      "execution_count": 227,
      "outputs": [
        {
          "output_type": "execute_result",
          "data": {
            "text/plain": [
              "Id                                     59\n",
              "season                               2018\n",
              "date                             3/3/2018\n",
              "team1                      Peshawar Zalmi\n",
              "team2                    Lahore Qalandars\n",
              "toss_winner              Lahore Qalandars\n",
              "toss_decision                         bat\n",
              "winner                     Peshawar Zalmi\n",
              "win_by_wickets                         10\n",
              "win_by_runs                             0\n",
              "man_of_match                    LA Dawson\n",
              "venue             Sharjah Cricket Stadium\n",
              "umpire1                       RT Robinson\n",
              "umpire2                     REJ Martinesz\n",
              "result                             normal\n",
              "Name: 58, dtype: object"
            ]
          },
          "metadata": {
            "tags": []
          },
          "execution_count": 227
        }
      ]
    },
    {
      "cell_type": "markdown",
      "metadata": {
        "id": "1R3iHIz8LHIC"
      },
      "source": [
        "**Winner of each season**"
      ]
    },
    {
      "cell_type": "code",
      "metadata": {
        "id": "XnCgTBn_LLkC",
        "colab": {
          "base_uri": "https://localhost:8080/",
          "height": 194
        },
        "outputId": "5a0e2a5c-f9df-47a9-cf41-c6c3ef26742d"
      },
      "source": [
        "each_win = pslmatches.drop_duplicates(subset=['season'],keep='last')[['season','winner']].reset_index(drop=True)\r\n",
        "each_win"
      ],
      "execution_count": 228,
      "outputs": [
        {
          "output_type": "execute_result",
          "data": {
            "application/vnd.google.colaboratory.module+javascript": "\n      import \"https://ssl.gstatic.com/colaboratory/data_table/a6224c040fa35dcf/data_table.js\";\n\n      window.createDataTable({\n        data: [[{\n            'v': 0,\n            'f': \"0\",\n        },\n{\n            'v': 2016,\n            'f': \"2016\",\n        },\n\"Islamabad United\"],\n [{\n            'v': 1,\n            'f': \"1\",\n        },\n{\n            'v': 2017,\n            'f': \"2017\",\n        },\n\"Peshawar Zalmi\"],\n [{\n            'v': 2,\n            'f': \"2\",\n        },\n{\n            'v': 2018,\n            'f': \"2018\",\n        },\n\"Islamabad United\"],\n [{\n            'v': 3,\n            'f': \"3\",\n        },\n{\n            'v': 2019,\n            'f': \"2019\",\n        },\n\"Quetta Gladiators\"],\n [{\n            'v': 4,\n            'f': \"4\",\n        },\n{\n            'v': 2020,\n            'f': \"2020\",\n        },\n\"Karachi Kings\"]],\n        columns: [[\"number\", \"index\"], [\"number\", \"season\"], [\"string\", \"winner\"]],\n        columnOptions: [{\"width\": \"1px\", \"className\": \"index_column\"}],\n        rowsPerPage: 25,\n        helpUrl: \"https://colab.research.google.com/notebooks/data_table.ipynb\",\n        suppressOutputScrolling: true,\n        minimumWidth: undefined,\n      });\n    ",
            "text/html": [
              "<div>\n",
              "<style scoped>\n",
              "    .dataframe tbody tr th:only-of-type {\n",
              "        vertical-align: middle;\n",
              "    }\n",
              "\n",
              "    .dataframe tbody tr th {\n",
              "        vertical-align: top;\n",
              "    }\n",
              "\n",
              "    .dataframe thead th {\n",
              "        text-align: right;\n",
              "    }\n",
              "</style>\n",
              "<table border=\"1\" class=\"dataframe\">\n",
              "  <thead>\n",
              "    <tr style=\"text-align: right;\">\n",
              "      <th></th>\n",
              "      <th>season</th>\n",
              "      <th>winner</th>\n",
              "    </tr>\n",
              "  </thead>\n",
              "  <tbody>\n",
              "    <tr>\n",
              "      <th>0</th>\n",
              "      <td>2016</td>\n",
              "      <td>Islamabad United</td>\n",
              "    </tr>\n",
              "    <tr>\n",
              "      <th>1</th>\n",
              "      <td>2017</td>\n",
              "      <td>Peshawar Zalmi</td>\n",
              "    </tr>\n",
              "    <tr>\n",
              "      <th>2</th>\n",
              "      <td>2018</td>\n",
              "      <td>Islamabad United</td>\n",
              "    </tr>\n",
              "    <tr>\n",
              "      <th>3</th>\n",
              "      <td>2019</td>\n",
              "      <td>Quetta Gladiators</td>\n",
              "    </tr>\n",
              "    <tr>\n",
              "      <th>4</th>\n",
              "      <td>2020</td>\n",
              "      <td>Karachi Kings</td>\n",
              "    </tr>\n",
              "  </tbody>\n",
              "</table>\n",
              "</div>"
            ],
            "text/plain": [
              "   season             winner\n",
              "0    2016   Islamabad United\n",
              "1    2017     Peshawar Zalmi\n",
              "2    2018   Islamabad United\n",
              "3    2019  Quetta Gladiators\n",
              "4    2020      Karachi Kings"
            ]
          },
          "metadata": {
            "tags": []
          },
          "execution_count": 228
        }
      ]
    },
    {
      "cell_type": "markdown",
      "metadata": {
        "id": "MStZKrMdNfL9"
      },
      "source": [
        "**Match win by each team**"
      ]
    },
    {
      "cell_type": "code",
      "metadata": {
        "id": "7unmdCfPPbkm",
        "colab": {
          "base_uri": "https://localhost:8080/"
        },
        "outputId": "9c55160f-1d4c-4af4-93aa-1b305cffe886"
      },
      "source": [
        "total_win=pslmatches.winner.value_counts()\r\n",
        "total_win"
      ],
      "execution_count": 229,
      "outputs": [
        {
          "output_type": "execute_result",
          "data": {
            "text/plain": [
              "Peshawar Zalmi       31\n",
              "Quetta Gladiators    29\n",
              "Islamabad United     29\n",
              "Karachi Kings        23\n",
              "Lahore Qalandars     18\n",
              "Multan Sultans       14\n",
              "draw                  2\n",
              "Name: winner, dtype: int64"
            ]
          },
          "metadata": {
            "tags": []
          },
          "execution_count": 229
        }
      ]
    },
    {
      "cell_type": "markdown",
      "metadata": {
        "id": "V18_1GMOQnJ7"
      },
      "source": [
        "**Match played in each season**"
      ]
    },
    {
      "cell_type": "code",
      "metadata": {
        "id": "xAOVY87nQDUS",
        "colab": {
          "base_uri": "https://localhost:8080/"
        },
        "outputId": "3c157ad6-48f4-4da2-d6e7-b17a34a78553"
      },
      "source": [
        "total_mat=pslmatches.season.value_counts()\r\n",
        "total_mat"
      ],
      "execution_count": 230,
      "outputs": [
        {
          "output_type": "execute_result",
          "data": {
            "text/plain": [
              "2019    34\n",
              "2018    33\n",
              "2020    32\n",
              "2017    24\n",
              "2016    23\n",
              "Name: season, dtype: int64"
            ]
          },
          "metadata": {
            "tags": []
          },
          "execution_count": 230
        }
      ]
    },
    {
      "cell_type": "markdown",
      "metadata": {
        "id": "VkWI9RVtT_hI"
      },
      "source": [
        "**Match played in each venue**"
      ]
    },
    {
      "cell_type": "code",
      "metadata": {
        "id": "vjCwxvq9UGfx",
        "colab": {
          "base_uri": "https://localhost:8080/"
        },
        "outputId": "559df826-6abc-479b-92aa-cb8c8af31237"
      },
      "source": [
        "total_venue=pslmatches.venue.value_counts()\r\n",
        "total_venue"
      ],
      "execution_count": 231,
      "outputs": [
        {
          "output_type": "execute_result",
          "data": {
            "text/plain": [
              "Dubai International Cricket Stadium    65\n",
              "Sharjah Cricket Stadium                33\n",
              "National Stadium                       21\n",
              "Gaddafi Stadium                        13\n",
              "Rawalpindi Cricket Stadium              7\n",
              "Sheikh Zayed Stadium                    4\n",
              "Multan Cricket Stadium                  3\n",
              "Name: venue, dtype: int64"
            ]
          },
          "metadata": {
            "tags": []
          },
          "execution_count": 231
        }
      ]
    },
    {
      "cell_type": "markdown",
      "metadata": {
        "id": "btrrP2tk6GYi"
      },
      "source": [
        "**toss win by each team**"
      ]
    },
    {
      "cell_type": "code",
      "metadata": {
        "colab": {
          "base_uri": "https://localhost:8080/"
        },
        "id": "tkTC2kp66KEm",
        "outputId": "b0e54840-b9cb-49b2-ce82-207c09f222ad"
      },
      "source": [
        "toss_win=pslmatches.toss_winner.value_counts()\r\n",
        "toss_win"
      ],
      "execution_count": 232,
      "outputs": [
        {
          "output_type": "execute_result",
          "data": {
            "text/plain": [
              "Quetta Gladiators    32\n",
              "Karachi Kings        32\n",
              "Peshawar Zalmi       29\n",
              "Lahore Qalandars     20\n",
              "Islamabad United     20\n",
              "Multan Sultans       13\n",
              "Name: toss_winner, dtype: int64"
            ]
          },
          "metadata": {
            "tags": []
          },
          "execution_count": 232
        }
      ]
    },
    {
      "cell_type": "markdown",
      "metadata": {
        "id": "cK6C7KLKxS6h"
      },
      "source": [
        "**toss descion count**"
      ]
    },
    {
      "cell_type": "code",
      "metadata": {
        "colab": {
          "base_uri": "https://localhost:8080/"
        },
        "id": "uSRBhVThxXWC",
        "outputId": "96172e9d-f7f4-47e0-f6f0-ae409aa46420"
      },
      "source": [
        "toss=pslmatches.toss_decision.value_counts()\r\n",
        "toss"
      ],
      "execution_count": 233,
      "outputs": [
        {
          "output_type": "execute_result",
          "data": {
            "text/plain": [
              "field    125\n",
              "bat       21\n",
              "Name: toss_decision, dtype: int64"
            ]
          },
          "metadata": {
            "tags": []
          },
          "execution_count": 233
        }
      ]
    },
    {
      "cell_type": "markdown",
      "metadata": {
        "id": "nwOFekRvyE2t"
      },
      "source": [
        "**man of the matches count**"
      ]
    },
    {
      "cell_type": "code",
      "metadata": {
        "id": "5WHWaP0eyJLv"
      },
      "source": [
        "man=pslmatches.man_of_match.value_counts()\r\n",
        "man"
      ],
      "execution_count": null,
      "outputs": []
    },
    {
      "cell_type": "markdown",
      "metadata": {
        "id": "PGnFyJg918G_"
      },
      "source": [
        "**total dot balls in psl**"
      ]
    },
    {
      "cell_type": "code",
      "metadata": {
        "id": "a9UZJs5z17lG",
        "colab": {
          "base_uri": "https://localhost:8080/"
        },
        "outputId": "cbb8423c-f401-49a0-8fd4-3d26861b7f47"
      },
      "source": [
        "do=pslball.loc[(pslball.total_run ==0)]\r\n",
        "dot=do['total_run'].count()\r\n",
        "dot"
      ],
      "execution_count": 257,
      "outputs": [
        {
          "output_type": "execute_result",
          "data": {
            "text/plain": [
              "12035"
            ]
          },
          "metadata": {
            "tags": []
          },
          "execution_count": 257
        }
      ]
    },
    {
      "cell_type": "markdown",
      "metadata": {
        "id": "tyumY32v5AF0"
      },
      "source": [
        "**total six in psl**"
      ]
    },
    {
      "cell_type": "code",
      "metadata": {
        "id": "aLW7GQ6t4_IO",
        "colab": {
          "base_uri": "https://localhost:8080/"
        },
        "outputId": "7403a61e-fdf5-4643-8633-03dc7425c6a6"
      },
      "source": [
        "si=pslball.loc[(pslball.runs_off_bat ==6)]\r\n",
        "six=si['runs_off_bat'].count()\r\n",
        "six"
      ],
      "execution_count": 236,
      "outputs": [
        {
          "output_type": "execute_result",
          "data": {
            "text/plain": [
              "1673"
            ]
          },
          "metadata": {
            "tags": []
          },
          "execution_count": 236
        }
      ]
    },
    {
      "cell_type": "markdown",
      "metadata": {
        "id": "jGd5GDTE5hRT"
      },
      "source": [
        "**total Fours in psl**"
      ]
    },
    {
      "cell_type": "code",
      "metadata": {
        "colab": {
          "base_uri": "https://localhost:8080/"
        },
        "id": "C5l5X-Xx5gu9",
        "outputId": "5629329d-ab9f-49b6-b171-06249a77bb3a"
      },
      "source": [
        "fo=pslball[(pslball.runs_off_bat ==4)]\r\n",
        "four=fo['runs_off_bat'].count()\r\n",
        "four"
      ],
      "execution_count": 237,
      "outputs": [
        {
          "output_type": "execute_result",
          "data": {
            "text/plain": [
              "3618"
            ]
          },
          "metadata": {
            "tags": []
          },
          "execution_count": 237
        }
      ]
    },
    {
      "cell_type": "markdown",
      "metadata": {
        "id": "BnxBrHJFQ0GC"
      },
      "source": [
        "# ***Data Visualization***"
      ]
    },
    {
      "cell_type": "markdown",
      "metadata": {
        "id": "i_hVbhSTAQhQ"
      },
      "source": [
        "**scatter plot** "
      ]
    },
    {
      "cell_type": "code",
      "metadata": {
        "id": "H2SGZ7n8AVPQ",
        "colab": {
          "base_uri": "https://localhost:8080/",
          "height": 389
        },
        "outputId": "c9f40dd8-65d9-4931-b1fb-ad039e7f3cd0"
      },
      "source": [
        "plt.scatter(pslmatches.win_by_runs,pslmatches.win_by_wickets)\r\n",
        "plt.xlabel('Win_by_run')\r\n",
        "plt.ylabel('win_by_wicket')\r\n",
        "plt.title('Win_by wicket  VS Win_by_run')"
      ],
      "execution_count": 238,
      "outputs": [
        {
          "output_type": "execute_result",
          "data": {
            "text/plain": [
              "Text(0.5, 1.0, 'Win_by wicket  VS Win_by_run')"
            ]
          },
          "metadata": {
            "tags": []
          },
          "execution_count": 238
        },
        {
          "output_type": "display_data",
          "data": {
            "image/png": "[encoded data removed]",
            "text/plain": [
              "<Figure size 648x381.6 with 1 Axes>"
            ]
          },
          "metadata": {
            "tags": []
          }
        }
      ]
    },
    {
      "cell_type": "markdown",
      "metadata": {
        "id": "qpltqdjmA2e3"
      },
      "source": [
        "**Graph of match played in each season**"
      ]
    },
    {
      "cell_type": "code",
      "metadata": {
        "id": "NZddeQX5Q8Pb",
        "colab": {
          "base_uri": "https://localhost:8080/",
          "height": 372
        },
        "outputId": "e47bee08-3eb7-413a-8d1e-2656a915009f"
      },
      "source": [
        "sns.countplot(x='season', data=pslmatches)  \r\n",
        "sns.set(rc={'figure.figsize':(12,8.3)})        #each season match count\r\n",
        "plt.title('Match played by each season')\r\n",
        "plt.show()"
      ],
      "execution_count": 239,
      "outputs": [
        {
          "output_type": "display_data",
          "data": {
            "image/png": "[encoded data removed]",
            "text/plain": [
              "<Figure size 648x381.6 with 1 Axes>"
            ]
          },
          "metadata": {
            "tags": []
          }
        }
      ]
    },
    {
      "cell_type": "markdown",
      "metadata": {
        "id": "Q04OkrIEA-31"
      },
      "source": [
        "**Match played in each venu**"
      ]
    },
    {
      "cell_type": "code",
      "metadata": {
        "id": "zn3-kKTFR0xX",
        "colab": {
          "base_uri": "https://localhost:8080/",
          "height": 535
        },
        "outputId": "c4a37954-c795-4b81-f58d-3eda93d9ee94"
      },
      "source": [
        "sns.countplot(x='venue' ,data=pslmatches)                   #match played in each venu\r\n",
        "plt.title('match palyed in each venu')\r\n",
        "plt.xlabel('venu')\r\n",
        "plt.ylabel('Match')\r\n",
        "sns.set(rc={'figure.figsize':(12,8.3)}) \r\n"
      ],
      "execution_count": 240,
      "outputs": [
        {
          "output_type": "display_data",
          "data": {
            "image/png": "[encoded data removed]",
            "text/plain": [
              "<Figure size 864x597.6 with 1 Axes>"
            ]
          },
          "metadata": {
            "tags": []
          }
        }
      ]
    },
    {
      "cell_type": "markdown",
      "metadata": {
        "id": "umya7AROUeYt"
      },
      "source": [
        "**match win by each team**"
      ]
    },
    {
      "cell_type": "code",
      "metadata": {
        "id": "riyWbdiwUsqY",
        "colab": {
          "base_uri": "https://localhost:8080/",
          "height": 535
        },
        "outputId": "df4f6114-c7d8-46a8-ab9c-23d765c4a362"
      },
      "source": [
        "sns.countplot(x='winner', data=pslmatches )\r\n",
        "plt.title('Match win by each team')   \r\n",
        "plt.xlabel('Team')\r\n",
        "plt.ylabel('Match')\r\n",
        "sns.set(rc={'figure.figsize':(9,5.3)}) "
      ],
      "execution_count": 241,
      "outputs": [
        {
          "output_type": "display_data",
          "data": {
            "image/png": "[encoded data removed]",
            "text/plain": [
              "<Figure size 864x597.6 with 1 Axes>"
            ]
          },
          "metadata": {
            "tags": []
          }
        }
      ]
    },
    {
      "cell_type": "markdown",
      "metadata": {
        "id": "64CLTYfiBaiH"
      },
      "source": [
        "**Match played by each tem**"
      ]
    },
    {
      "cell_type": "code",
      "metadata": {
        "id": "DgmmjKnNBjLn",
        "colab": {
          "base_uri": "https://localhost:8080/",
          "height": 389
        },
        "outputId": "d80de070-c665-4359-c052-c481c4682ffd"
      },
      "source": [
        "sns.countplot(x='team1' , data=pslmatches)\r\n",
        "plt.title('Match palyed by each team')      #confusion\r\n"
      ],
      "execution_count": 242,
      "outputs": [
        {
          "output_type": "execute_result",
          "data": {
            "text/plain": [
              "Text(0.5, 1.0, 'Match palyed by each team')"
            ]
          },
          "metadata": {
            "tags": []
          },
          "execution_count": 242
        },
        {
          "output_type": "display_data",
          "data": {
            "image/png": "[encoded data removed]",
            "text/plain": [
              "<Figure size 648x381.6 with 1 Axes>"
            ]
          },
          "metadata": {
            "tags": []
          }
        }
      ]
    },
    {
      "cell_type": "markdown",
      "metadata": {
        "id": "IbzkKDF61AP0"
      },
      "source": [
        "**plot on win_by wickets**"
      ]
    },
    {
      "cell_type": "code",
      "metadata": {
        "id": "d1-EYqEmW3Vq",
        "colab": {
          "base_uri": "https://localhost:8080/",
          "height": 389
        },
        "outputId": "05b9739d-f055-4ece-efd8-e648f0906b42"
      },
      "source": [
        "sns.countplot(x='win_by_wickets' , data=pslmatches)\r\n",
        "plt.title('Match palyed by each team')"
      ],
      "execution_count": 243,
      "outputs": [
        {
          "output_type": "execute_result",
          "data": {
            "text/plain": [
              "Text(0.5, 1.0, 'Match palyed by each team')"
            ]
          },
          "metadata": {
            "tags": []
          },
          "execution_count": 243
        },
        {
          "output_type": "display_data",
          "data": {
            "image/png": "[encoded data removed]",
            "text/plain": [
              "<Figure size 648x381.6 with 1 Axes>"
            ]
          },
          "metadata": {
            "tags": []
          }
        }
      ]
    },
    {
      "cell_type": "code",
      "metadata": {
        "id": "29dyM37n6wRT",
        "colab": {
          "base_uri": "https://localhost:8080/",
          "height": 389
        },
        "outputId": "a1256efa-8dac-4073-c265-e251ecba0580"
      },
      "source": [
        "sns.countplot(x='toss_winner',data=pslmatches)\r\n",
        "plt.title('Toss win by each team')"
      ],
      "execution_count": 244,
      "outputs": [
        {
          "output_type": "execute_result",
          "data": {
            "text/plain": [
              "Text(0.5, 1.0, 'Toss win by each team')"
            ]
          },
          "metadata": {
            "tags": []
          },
          "execution_count": 244
        },
        {
          "output_type": "display_data",
          "data": {
            "image/png": "[encoded data removed]",
            "text/plain": [
              "<Figure size 648x381.6 with 1 Axes>"
            ]
          },
          "metadata": {
            "tags": []
          }
        }
      ]
    },
    {
      "cell_type": "markdown",
      "metadata": {
        "id": "c_p7K-BM1GGj"
      },
      "source": [
        "**toss decision count**"
      ]
    },
    {
      "cell_type": "code",
      "metadata": {
        "colab": {
          "base_uri": "https://localhost:8080/",
          "height": 373
        },
        "id": "I6UsrMva8a4S",
        "outputId": "cce2c6c9-1a6a-41c7-b082-3ef6a55276b3"
      },
      "source": [
        "sns.countplot(x='toss_decision' ,data=pslmatches)"
      ],
      "execution_count": 245,
      "outputs": [
        {
          "output_type": "execute_result",
          "data": {
            "text/plain": [
              "<matplotlib.axes._subplots.AxesSubplot at 0x7fc6547aca90>"
            ]
          },
          "metadata": {
            "tags": []
          },
          "execution_count": 245
        },
        {
          "output_type": "display_data",
          "data": {
            "image/png": "[encoded data removed]",
            "text/plain": [
              "<Figure size 648x381.6 with 1 Axes>"
            ]
          },
          "metadata": {
            "tags": []
          }
        }
      ]
    },
    {
      "cell_type": "markdown",
      "metadata": {
        "id": "6f5bVs9Q1Lsn"
      },
      "source": [
        "**total score type count**"
      ]
    },
    {
      "cell_type": "code",
      "metadata": {
        "colab": {
          "base_uri": "https://localhost:8080/",
          "height": 373
        },
        "id": "v5E-NUI80njc",
        "outputId": "dc22e17e-98f1-4149-a2c8-c4aa7cb4b859"
      },
      "source": [
        "sns.countplot(x='runs_off_bat',data=pslball)"
      ],
      "execution_count": 246,
      "outputs": [
        {
          "output_type": "execute_result",
          "data": {
            "text/plain": [
              "<matplotlib.axes._subplots.AxesSubplot at 0x7fc6546ddba8>"
            ]
          },
          "metadata": {
            "tags": []
          },
          "execution_count": 246
        },
        {
          "output_type": "display_data",
          "data": {
            "image/png": "[encoded data removed]",
            "text/plain": [
              "<Figure size 648x381.6 with 1 Axes>"
            ]
          },
          "metadata": {
            "tags": []
          }
        }
      ]
    },
    {
      "cell_type": "markdown",
      "metadata": {
        "id": "W_RBQsGS1rXo"
      },
      "source": [
        "**extra score graph**"
      ]
    },
    {
      "cell_type": "code",
      "metadata": {
        "colab": {
          "base_uri": "https://localhost:8080/",
          "height": 373
        },
        "id": "oe051iK11XZl",
        "outputId": "17a5d7be-47fa-44ed-d099-848c29d848f8"
      },
      "source": [
        "sns.countplot(x='extras',data=pslball)"
      ],
      "execution_count": 247,
      "outputs": [
        {
          "output_type": "execute_result",
          "data": {
            "text/plain": [
              "<matplotlib.axes._subplots.AxesSubplot at 0x7fc6548268d0>"
            ]
          },
          "metadata": {
            "tags": []
          },
          "execution_count": 247
        },
        {
          "output_type": "display_data",
          "data": {
            "image/png": "[encoded data removed]",
            "text/plain": [
              "<Figure size 648x381.6 with 1 Axes>"
            ]
          },
          "metadata": {
            "tags": []
          }
        }
      ]
    },
    {
      "cell_type": "code",
      "metadata": {
        "id": "5NH-Iabt8zZR",
        "colab": {
          "base_uri": "https://localhost:8080/",
          "height": 389
        },
        "outputId": "cdb7603c-4356-4825-cc36-0448d4efd0b9"
      },
      "source": [
        "sns.countplot(x='wicket_type',data=pslball)\r\n",
        "plt.title('Wickets type in psl')"
      ],
      "execution_count": 248,
      "outputs": [
        {
          "output_type": "execute_result",
          "data": {
            "text/plain": [
              "Text(0.5, 1.0, 'Wickets type in psl')"
            ]
          },
          "metadata": {
            "tags": []
          },
          "execution_count": 248
        },
        {
          "output_type": "display_data",
          "data": {
            "image/png": "[encoded data removed]",
            "text/plain": [
              "<Figure size 648x381.6 with 1 Axes>"
            ]
          },
          "metadata": {
            "tags": []
          }
        }
      ]
    },
    {
      "cell_type": "code",
      "metadata": {
        "id": "DxMGBqub9JRQ",
        "colab": {
          "base_uri": "https://localhost:8080/"
        },
        "outputId": "141619da-c3f8-4396-94cd-672fb87397db"
      },
      "source": [
        "team1=pslmatches.team1.value_counts()\r\n",
        "team1"
      ],
      "execution_count": 263,
      "outputs": [
        {
          "output_type": "execute_result",
          "data": {
            "text/plain": [
              "Karachi Kings        35\n",
              "Islamabad United     34\n",
              "Lahore Qalandars     33\n",
              "Peshawar Zalmi       19\n",
              "Multan Sultans       14\n",
              "Quetta Gladiators    11\n",
              "Name: team1, dtype: int64"
            ]
          },
          "metadata": {
            "tags": []
          },
          "execution_count": 263
        }
      ]
    },
    {
      "cell_type": "code",
      "metadata": {
        "colab": {
          "base_uri": "https://localhost:8080/"
        },
        "id": "6z-QDgIzT0mh",
        "outputId": "42f590d4-d96f-44cb-e463-ea5931ef1fd8"
      },
      "source": [
        "team2=pslmatches.team2.value_counts()\r\n",
        "team2"
      ],
      "execution_count": 262,
      "outputs": [
        {
          "output_type": "execute_result",
          "data": {
            "text/plain": [
              "Quetta Gladiators    41\n",
              "Peshawar Zalmi       37\n",
              "Islamabad United     19\n",
              "Karachi Kings        17\n",
              "Multan Sultans       16\n",
              "Lahore Qalandars     16\n",
              "Name: team2, dtype: int64"
            ]
          },
          "metadata": {
            "tags": []
          },
          "execution_count": 262
        }
      ]
    },
    {
      "cell_type": "code",
      "metadata": {
        "id": "dW308_jXUtsd"
      },
      "source": [
        ""
      ],
      "execution_count": null,
      "outputs": []
    }
  ]
}